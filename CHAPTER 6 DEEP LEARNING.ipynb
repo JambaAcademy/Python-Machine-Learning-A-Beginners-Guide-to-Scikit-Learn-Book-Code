{
 "cells": [
  {
   "cell_type": "markdown",
   "id": "8b32e203",
   "metadata": {},
   "source": [
    "### 6.3 BACKPROPAGATION \n",
    "\n",
    "Backpropagation is a training algorithm used to update the weights of a neural network by propagating the error back through the network. The algorithm is used in supervised learning, where the goal is to minimize the error between the predicted output of the network and the true output.\n",
    "\n",
    "The backpropagation algorithm starts by forwarding the input data through the network to compute the predicted output. The error is then calculated by comparing the predicted output to the true output. This error is then propagated back through the network, starting from the output layer and working backwards towards the input layer. As the error is propagated back, the weights of the network are updated in order to reduce the error.\n",
    "\n",
    "The key to the backpropagation algorithm is the use of gradient descent, which is an optimization algorithm used to find the minimum of a function. The gradient of the error with respect to the weights is computed, and the weights are updated in the opposite direction of the gradient. This process is repeated until the error reaches a minimum.\n",
    "\n",
    "There are several variations of the backpropagation algorithm, including stochastic gradient descent, batch gradient descent, and mini-batch gradient descent. Each variation has its own advantages and disadvantages, and the choice of which to use depends on the specific problem being solved and the resources available.\n",
    "\n",
    "#### Example\n",
    "\n",
    "Here is an example of implementing the backpropagation algorithm using Keras and a randomly generated dataset:\n",
    "\n",
    "The use case we will consider is predicting the price of a house based on its size, number of bedrooms, and location.\n"
   ]
  },
  {
   "cell_type": "code",
   "execution_count": 4,
   "id": "f211b3a5",
   "metadata": {},
   "outputs": [
    {
     "name": "stdout",
     "output_type": "stream",
     "text": [
      "Epoch 1/50\n",
      "20/20 [==============================] - 4s 176ms/step - loss: 207.1991 - val_loss: 190.2537\n",
      "Epoch 2/50\n",
      "20/20 [==============================] - 0s 4ms/step - loss: 181.1093 - val_loss: 165.0958\n",
      "Epoch 3/50\n",
      "20/20 [==============================] - 0s 4ms/step - loss: 156.4680 - val_loss: 141.6740\n",
      "Epoch 4/50\n",
      "20/20 [==============================] - 0s 4ms/step - loss: 133.5000 - val_loss: 119.1680\n",
      "Epoch 5/50\n",
      "20/20 [==============================] - 0s 4ms/step - loss: 111.3130 - val_loss: 97.6153\n",
      "Epoch 6/50\n",
      "20/20 [==============================] - 0s 4ms/step - loss: 89.8446 - val_loss: 77.0907\n",
      "Epoch 7/50\n",
      "20/20 [==============================] - 0s 4ms/step - loss: 69.6745 - val_loss: 57.7298\n",
      "Epoch 8/50\n",
      "20/20 [==============================] - 0s 4ms/step - loss: 50.9500 - val_loss: 41.1020\n",
      "Epoch 9/50\n",
      "20/20 [==============================] - 0s 4ms/step - loss: 35.6256 - val_loss: 27.3496\n",
      "Epoch 10/50\n",
      "20/20 [==============================] - 0s 3ms/step - loss: 23.3640 - val_loss: 17.6275\n",
      "Epoch 11/50\n",
      "20/20 [==============================] - 0s 3ms/step - loss: 14.9861 - val_loss: 11.2408\n",
      "Epoch 12/50\n",
      "20/20 [==============================] - 0s 4ms/step - loss: 9.7997 - val_loss: 7.4653\n",
      "Epoch 13/50\n",
      "20/20 [==============================] - 0s 4ms/step - loss: 6.8998 - val_loss: 5.6408\n",
      "Epoch 14/50\n",
      "20/20 [==============================] - 0s 4ms/step - loss: 5.5423 - val_loss: 4.8556\n",
      "Epoch 15/50\n",
      "20/20 [==============================] - 0s 3ms/step - loss: 4.9493 - val_loss: 4.5704\n",
      "Epoch 16/50\n",
      "20/20 [==============================] - 0s 3ms/step - loss: 4.7338 - val_loss: 4.4549\n",
      "Epoch 17/50\n",
      "20/20 [==============================] - 0s 3ms/step - loss: 4.6109 - val_loss: 4.4031\n",
      "Epoch 18/50\n",
      "20/20 [==============================] - 0s 3ms/step - loss: 4.5513 - val_loss: 4.3641\n",
      "Epoch 19/50\n",
      "20/20 [==============================] - 0s 4ms/step - loss: 4.5007 - val_loss: 4.3251\n",
      "Epoch 20/50\n",
      "20/20 [==============================] - 0s 3ms/step - loss: 4.4593 - val_loss: 4.2940\n",
      "Epoch 21/50\n",
      "20/20 [==============================] - 0s 3ms/step - loss: 4.4187 - val_loss: 4.2604\n",
      "Epoch 22/50\n",
      "20/20 [==============================] - 0s 3ms/step - loss: 4.3822 - val_loss: 4.2262\n",
      "Epoch 23/50\n",
      "20/20 [==============================] - 0s 3ms/step - loss: 4.3482 - val_loss: 4.1967\n",
      "Epoch 24/50\n",
      "20/20 [==============================] - 0s 3ms/step - loss: 4.3163 - val_loss: 4.1688\n",
      "Epoch 25/50\n",
      "20/20 [==============================] - 0s 4ms/step - loss: 4.2881 - val_loss: 4.1426\n",
      "Epoch 26/50\n",
      "20/20 [==============================] - 0s 3ms/step - loss: 4.2588 - val_loss: 4.1209\n",
      "Epoch 27/50\n",
      "20/20 [==============================] - 0s 3ms/step - loss: 4.2371 - val_loss: 4.0965\n",
      "Epoch 28/50\n",
      "20/20 [==============================] - 0s 3ms/step - loss: 4.2118 - val_loss: 4.0807\n",
      "Epoch 29/50\n",
      "20/20 [==============================] - 0s 4ms/step - loss: 4.1914 - val_loss: 4.0631\n",
      "Epoch 30/50\n",
      "20/20 [==============================] - 0s 4ms/step - loss: 4.1732 - val_loss: 4.0476\n",
      "Epoch 31/50\n",
      "20/20 [==============================] - 0s 3ms/step - loss: 4.1544 - val_loss: 4.0384\n",
      "Epoch 32/50\n",
      "20/20 [==============================] - 0s 3ms/step - loss: 4.1404 - val_loss: 4.0289\n",
      "Epoch 33/50\n",
      "20/20 [==============================] - 0s 4ms/step - loss: 4.1254 - val_loss: 4.0096\n",
      "Epoch 34/50\n",
      "20/20 [==============================] - 0s 3ms/step - loss: 4.1158 - val_loss: 4.0014\n",
      "Epoch 35/50\n",
      "20/20 [==============================] - 0s 3ms/step - loss: 4.1041 - val_loss: 3.9983\n",
      "Epoch 36/50\n",
      "20/20 [==============================] - 0s 3ms/step - loss: 4.0939 - val_loss: 3.9790\n",
      "Epoch 37/50\n",
      "20/20 [==============================] - 0s 3ms/step - loss: 4.0835 - val_loss: 3.9716\n",
      "Epoch 38/50\n",
      "20/20 [==============================] - 0s 3ms/step - loss: 4.0775 - val_loss: 3.9850\n",
      "Epoch 39/50\n",
      "20/20 [==============================] - 0s 3ms/step - loss: 4.0664 - val_loss: 3.9765\n",
      "Epoch 40/50\n",
      "20/20 [==============================] - 0s 3ms/step - loss: 4.0588 - val_loss: 3.9599\n",
      "Epoch 41/50\n",
      "20/20 [==============================] - 0s 3ms/step - loss: 4.0557 - val_loss: 3.9531\n",
      "Epoch 42/50\n",
      "20/20 [==============================] - 0s 3ms/step - loss: 4.0473 - val_loss: 3.9662\n",
      "Epoch 43/50\n",
      "20/20 [==============================] - 0s 4ms/step - loss: 4.0434 - val_loss: 3.9510\n",
      "Epoch 44/50\n",
      "20/20 [==============================] - 0s 3ms/step - loss: 4.0410 - val_loss: 3.9592\n",
      "Epoch 45/50\n",
      "20/20 [==============================] - 0s 3ms/step - loss: 4.0348 - val_loss: 3.9432\n",
      "Epoch 46/50\n",
      "20/20 [==============================] - 0s 3ms/step - loss: 4.0301 - val_loss: 3.9417\n",
      "Epoch 47/50\n",
      "20/20 [==============================] - 0s 3ms/step - loss: 4.0270 - val_loss: 3.9432\n",
      "Epoch 48/50\n",
      "20/20 [==============================] - 0s 3ms/step - loss: 4.0234 - val_loss: 3.9504\n",
      "Epoch 49/50\n",
      "20/20 [==============================] - 0s 3ms/step - loss: 4.0209 - val_loss: 3.9507\n",
      "Epoch 50/50\n",
      "20/20 [==============================] - 0s 3ms/step - loss: 4.0178 - val_loss: 3.9399\n"
     ]
    },
    {
     "data": {
      "image/png": "[encoded data removed]",
      "text/plain": [
       "<Figure size 432x288 with 1 Axes>"
      ]
     },
     "metadata": {
      "needs_background": "light"
     },
     "output_type": "display_data"
    }
   ],
   "source": [
    "import numpy as np\n",
    "import matplotlib.pyplot as plt\n",
    "from tensorflow import keras\n",
    "\n",
    "np.random.seed(42)\n",
    "\n",
    "# Generate random dataset\n",
    "X = np.random.rand(1000, 3) * 10\n",
    "y = np.sum(X, axis=1) + np.random.randn(1000) * 2\n",
    "\n",
    "# Split data into training and testing sets\n",
    "split = 800\n",
    "X_train, y_train = X[:split], y[:split]\n",
    "X_test, y_test = X[split:], y[split:]\n",
    "\n",
    "# Create neural network\n",
    "model = keras.Sequential([\n",
    "    keras.layers.Dense(10, input_dim=3, activation='relu'),\n",
    "    keras.layers.Dense(1, activation='linear')\n",
    "])\n",
    "\n",
    "# Compile the model\n",
    "model.compile(loss='mse', optimizer='adam')\n",
    "\n",
    "# Train the model\n",
    "history = model.fit(X_train, y_train, epochs=50, batch_size=32, validation_split=0.2)\n",
    "\n",
    "# Plot the training and validation loss over each epoch\n",
    "plt.plot(history.history['loss'])\n",
    "plt.plot(history.history['val_loss'])\n",
    "plt.title('Model loss')\n",
    "plt.ylabel('Loss')\n",
    "plt.xlabel('Epoch')\n",
    "plt.legend(['Train', 'Validation'], loc='upper right')\n",
    "plt.show()\n"
   ]
  },
  {
   "cell_type": "markdown",
   "id": "f8069413",
   "metadata": {},
   "source": [
    "#### Here is another example without Keras"
   ]
  },
  {
   "cell_type": "code",
   "execution_count": 6,
   "id": "c74b0b9e",
   "metadata": {},
   "outputs": [
    {
     "name": "stdout",
     "output_type": "stream",
     "text": [
      "Epoch 100/1000 - Loss: 0.1889\n",
      "Epoch 200/1000 - Loss: 0.2464\n",
      "Epoch 300/1000 - Loss: 0.2488\n",
      "Epoch 400/1000 - Loss: 0.2493\n",
      "Epoch 500/1000 - Loss: 0.2494\n",
      "Epoch 600/1000 - Loss: 0.2492\n",
      "Epoch 700/1000 - Loss: 0.2459\n",
      "Epoch 800/1000 - Loss: 0.2409\n",
      "Epoch 900/1000 - Loss: 0.2489\n",
      "Epoch 1000/1000 - Loss: 0.2497\n"
     ]
    },
    {
     "data": {
      "image/png": "[encoded data removed]",
      "text/plain": [
       "<Figure size 432x288 with 1 Axes>"
      ]
     },
     "metadata": {
      "needs_background": "light"
     },
     "output_type": "display_data"
    }
   ],
   "source": [
    "import numpy as np\n",
    "import matplotlib.pyplot as plt\n",
    "\n",
    "# Set random seed for reproducibility\n",
    "np.random.seed(42)\n",
    "\n",
    "# Generate a random dataset with two features\n",
    "X = np.random.rand(100, 2)\n",
    "\n",
    "# Assign labels based on whether point is above/below a line\n",
    "y = np.array([1 if x[0] + x[1] > 1 else 0 for x in X])\n",
    "\n",
    "# Define sigmoid activation function and its derivative\n",
    "def sigmoid(x):\n",
    "    return 1 / (1 + np.exp(-x))\n",
    "\n",
    "def sigmoid_derivative(x):\n",
    "    return sigmoid(x) * (1 - sigmoid(x))\n",
    "\n",
    "# Define neural network architecture\n",
    "input_size = 2\n",
    "hidden_size = 4\n",
    "output_size = 1\n",
    "\n",
    "# Initialize weights randomly\n",
    "W1 = np.random.randn(input_size, hidden_size)\n",
    "W2 = np.random.randn(hidden_size, output_size)\n",
    "\n",
    "# Define hyperparameters\n",
    "learning_rate = 0.1\n",
    "num_epochs = 1000\n",
    "\n",
    "# Training loop\n",
    "for epoch in range(num_epochs):\n",
    "    # Forward pass\n",
    "    hidden_layer = sigmoid(np.dot(X, W1))\n",
    "    y_pred = sigmoid(np.dot(hidden_layer, W2))\n",
    "\n",
    "    # Compute loss\n",
    "    error = y.reshape(-1, 1) - y_pred\n",
    "    loss = np.mean(error ** 2)\n",
    "\n",
    "    # Backpropagation\n",
    "    dW2 = hidden_layer.T.dot(error * sigmoid_derivative(y_pred))\n",
    "    dW1 = X.T.dot((error * sigmoid_derivative(y_pred)).dot(W2.T) * sigmoid_derivative(hidden_layer))\n",
    "\n",
    "    # Update weights\n",
    "    W2 += learning_rate * dW2\n",
    "    W1 += learning_rate * dW1\n",
    "\n",
    "    # Print progress\n",
    "    if (epoch+1) % 100 == 0:\n",
    "        print(f\"Epoch {epoch+1}/{num_epochs} - Loss: {loss:.4f}\")\n",
    "\n",
    "# Plot the decision boundary\n",
    "x1 = np.linspace(0, 1, 100)\n",
    "x2 = np.linspace(0, 1, 100)\n",
    "xx1, xx2 = np.meshgrid(x1, x2)\n",
    "X_grid = np.c_[xx1.ravel(), xx2.ravel()]\n",
    "hidden_layer = sigmoid(np.dot(X_grid, W1))\n",
    "y_pred = sigmoid(np.dot(hidden_layer, W2))\n",
    "y_grid = y_pred.reshape(xx1.shape)\n",
    "plt.contourf(xx1, xx2, y_grid, cmap=plt.cm.coolwarm, alpha=0.8)\n",
    "plt.scatter(X[:, 0], X[:, 1], c=y, cmap=plt.cm.coolwarm)\n",
    "plt.xlabel(\"Feature 1\")\n",
    "plt.ylabel(\"Feature 2\")\n",
    "plt.title(\"Binary Classification with Backpropagation\")\n",
    "plt.show()\n"
   ]
  },
  {
   "cell_type": "markdown",
   "id": "8b839acc",
   "metadata": {},
   "source": [
    "### 6.4 CONVOLUTIONAL NEURAL NETWORKS \n",
    "\n",
    "Convolutional Neural Networks (CNNs) are a type of deep learning model that are specifically designed to process data that has a grid-like structure, such as an image. CNNs use a technique called convolution to automatically and adaptively learn spatial hierarchies of features from input images.\n",
    "\n",
    "The architecture of a CNN typically consists of several layers, including:\n",
    "\n",
    "    •\tThe input layer: which receives the image data\n",
    "\n",
    "    •\tThe convolutional layers: which apply a set of filters to the input image to extract features\n",
    "\n",
    "    •\tThe pooling layers: which down-sample the output from the convolutional layers\n",
    "\n",
    "    •\tThe fully connected layers: which take the output from the pooling layers and use it to make a prediction\n"
   ]
  },
  {
   "cell_type": "code",
   "execution_count": 12,
   "id": "47ce3b69",
   "metadata": {},
   "outputs": [
    {
     "name": "stdout",
     "output_type": "stream",
     "text": [
      "Downloading data from https://www.cs.toronto.edu/~kriz/cifar-10-python.tar.gz\n",
      "170498071/170498071 [==============================] - 1887s 11us/step\n",
      "Epoch 1/10\n",
      "1563/1563 [==============================] - 40s 25ms/step - loss: 1.5143 - accuracy: 0.4470 - val_loss: 1.2323 - val_accuracy: 0.5564\n",
      "Epoch 2/10\n",
      "1563/1563 [==============================] - 42s 27ms/step - loss: 1.1540 - accuracy: 0.5908 - val_loss: 1.1062 - val_accuracy: 0.6086\n",
      "Epoch 3/10\n",
      "1563/1563 [==============================] - 40s 26ms/step - loss: 1.0111 - accuracy: 0.6422 - val_loss: 0.9978 - val_accuracy: 0.6491\n",
      "Epoch 4/10\n",
      "1563/1563 [==============================] - 40s 26ms/step - loss: 0.9064 - accuracy: 0.6812 - val_loss: 0.9189 - val_accuracy: 0.6792\n",
      "Epoch 5/10\n",
      "1563/1563 [==============================] - 46s 29ms/step - loss: 0.8321 - accuracy: 0.7080 - val_loss: 0.9142 - val_accuracy: 0.6778\n",
      "Epoch 6/10\n",
      "1563/1563 [==============================] - 41s 26ms/step - loss: 0.7724 - accuracy: 0.7282 - val_loss: 0.8547 - val_accuracy: 0.7059\n",
      "Epoch 7/10\n",
      "1563/1563 [==============================] - 41s 27ms/step - loss: 0.7235 - accuracy: 0.7478 - val_loss: 0.8906 - val_accuracy: 0.6909\n",
      "Epoch 8/10\n",
      "1563/1563 [==============================] - 43s 28ms/step - loss: 0.6782 - accuracy: 0.7621 - val_loss: 0.8689 - val_accuracy: 0.6967\n",
      "Epoch 9/10\n",
      "1563/1563 [==============================] - 43s 28ms/step - loss: 0.6386 - accuracy: 0.7767 - val_loss: 0.8438 - val_accuracy: 0.7129\n",
      "Epoch 10/10\n",
      "1563/1563 [==============================] - 40s 26ms/step - loss: 0.6001 - accuracy: 0.7898 - val_loss: 0.8595 - val_accuracy: 0.7089\n",
      "313/313 - 2s - loss: 0.8595 - accuracy: 0.7089 - 2s/epoch - 7ms/step\n",
      "Test accuracy: 0.708899974822998\n"
     ]
    }
   ],
   "source": [
    "# import necessary libraries\n",
    "import tensorflow as tf\n",
    "from tensorflow.keras import datasets, layers, models\n",
    "import ssl\n",
    "ssl._create_default_https_context = ssl._create_unverified_context\n",
    "\n",
    "# load data\n",
    "(train_images, train_labels), (test_images, test_labels) = datasets.cifar10.load_data()\n",
    "\n",
    "# normalize pixel values to be between 0 and 1\n",
    "train_images, test_images = train_images / 255.0, test_images / 255.0\n",
    "\n",
    "# build CNN model\n",
    "model = models.Sequential()\n",
    "model.add(layers.Conv2D(32, (3, 3), activation='relu', input_shape=(32, 32, 3)))\n",
    "model.add(layers.MaxPooling2D((2, 2)))\n",
    "model.add(layers.Conv2D(64, (3, 3), activation='relu'))\n",
    "model.add(layers.MaxPooling2D((2, 2)))\n",
    "model.add(layers.Conv2D(64, (3, 3), activation='relu'))\n",
    "model.add(layers.Flatten())\n",
    "model.add(layers.Dense(64, activation='relu'))\n",
    "model.add(layers.Dense(10))\n",
    "\n",
    "# compile model\n",
    "model.compile(optimizer='adam',\n",
    "              loss=tf.keras.losses.SparseCategoricalCrossentropy(from_logits=True),\n",
    "              metrics=['accuracy'])\n",
    "\n",
    "# train model\n",
    "history = model.fit(train_images, train_labels, epochs=10, \n",
    "                    validation_data=(test_images, test_labels))\n",
    "\n",
    "# evaluate model\n",
    "test_loss, test_acc = model.evaluate(test_images,  test_labels, verbose=2)\n",
    "print(f'Test accuracy: {test_acc}')\n"
   ]
  },
  {
   "cell_type": "markdown",
   "id": "22929585",
   "metadata": {},
   "source": [
    "#### Another Example"
   ]
  },
  {
   "cell_type": "code",
   "execution_count": 1,
   "id": "12b5ecb1",
   "metadata": {},
   "outputs": [
    {
     "name": "stdout",
     "output_type": "stream",
     "text": [
      "Epoch 1/10\n",
      "1563/1563 [==============================] - 32s 20ms/step - loss: 1.5242 - accuracy: 0.4437 - val_loss: 1.2295 - val_accuracy: 0.5596\n",
      "Epoch 2/10\n",
      "1563/1563 [==============================] - 42s 27ms/step - loss: 1.1602 - accuracy: 0.5899 - val_loss: 1.0654 - val_accuracy: 0.6229\n",
      "Epoch 3/10\n",
      "1563/1563 [==============================] - 41s 26ms/step - loss: 1.0112 - accuracy: 0.6456 - val_loss: 0.9889 - val_accuracy: 0.6515\n",
      "Epoch 4/10\n",
      "1563/1563 [==============================] - 38s 24ms/step - loss: 0.9103 - accuracy: 0.6838 - val_loss: 0.9298 - val_accuracy: 0.6760\n",
      "Epoch 5/10\n",
      "1563/1563 [==============================] - 34s 22ms/step - loss: 0.8377 - accuracy: 0.7057 - val_loss: 0.9120 - val_accuracy: 0.6846\n",
      "Epoch 6/10\n",
      "1563/1563 [==============================] - 35s 22ms/step - loss: 0.7778 - accuracy: 0.7277 - val_loss: 0.9186 - val_accuracy: 0.6879\n",
      "Epoch 7/10\n",
      "1563/1563 [==============================] - 38s 24ms/step - loss: 0.7286 - accuracy: 0.7442 - val_loss: 0.8520 - val_accuracy: 0.7059\n",
      "Epoch 8/10\n",
      "1563/1563 [==============================] - 37s 24ms/step - loss: 0.6852 - accuracy: 0.7603 - val_loss: 0.8641 - val_accuracy: 0.7084\n",
      "Epoch 9/10\n",
      "1563/1563 [==============================] - 34s 22ms/step - loss: 0.6477 - accuracy: 0.7725 - val_loss: 0.8672 - val_accuracy: 0.7065\n",
      "Epoch 10/10\n",
      "1563/1563 [==============================] - 36s 23ms/step - loss: 0.6095 - accuracy: 0.7845 - val_loss: 0.8850 - val_accuracy: 0.7102\n"
     ]
    },
    {
     "data": {
      "text/plain": [
       "<keras.callbacks.History at 0x1fe00219190>"
      ]
     },
     "execution_count": 1,
     "metadata": {},
     "output_type": "execute_result"
    }
   ],
   "source": [
    "import tensorflow as tf\n",
    "from tensorflow import keras\n",
    "from tensorflow.keras import layers\n",
    "\n",
    "# Load CIFAR-10 dataset\n",
    "(x_train, y_train), (x_test, y_test) = keras.datasets.cifar10.load_data()\n",
    "\n",
    "# Preprocess the data\n",
    "x_train = x_train.astype(\"float32\") / 255.0\n",
    "x_test = x_test.astype(\"float32\") / 255.0\n",
    "\n",
    "# Define the CNN architecture\n",
    "model = keras.Sequential(\n",
    "    [\n",
    "        layers.Conv2D(32, (3, 3), activation=\"relu\", input_shape=(32, 32, 3)),\n",
    "        layers.MaxPooling2D((2, 2)),\n",
    "        layers.Conv2D(64, (3, 3), activation=\"relu\"),\n",
    "        layers.MaxPooling2D((2, 2)),\n",
    "        layers.Conv2D(64, (3, 3), activation=\"relu\"),\n",
    "        layers.Flatten(),\n",
    "        layers.Dense(64, activation=\"relu\"),\n",
    "        layers.Dense(10),\n",
    "    ]\n",
    ")\n",
    "\n",
    "# Compile the model\n",
    "model.compile(\n",
    "    optimizer=keras.optimizers.Adam(learning_rate=0.001),\n",
    "    loss=keras.losses.SparseCategoricalCrossentropy(from_logits=True),\n",
    "    metrics=[\"accuracy\"],\n",
    ")\n",
    "\n",
    "# Train the model\n",
    "model.fit(x_train, y_train, epochs=10, validation_data=(x_test, y_test))\n"
   ]
  },
  {
   "cell_type": "markdown",
   "id": "848664d2",
   "metadata": {},
   "source": [
    "#### Example from Book"
   ]
  },
  {
   "cell_type": "code",
   "execution_count": 2,
   "id": "4a9ac576",
   "metadata": {},
   "outputs": [
    {
     "name": "stdout",
     "output_type": "stream",
     "text": [
      "Epoch 1/10\n",
      "313/313 [==============================] - 8s 24ms/step - loss: 0.6761 - accuracy: 0.5675 - val_loss: 0.6615 - val_accuracy: 0.5880\n",
      "Epoch 2/10\n",
      "313/313 [==============================] - 8s 26ms/step - loss: 0.6072 - accuracy: 0.6692 - val_loss: 0.5512 - val_accuracy: 0.7190\n",
      "Epoch 3/10\n",
      "313/313 [==============================] - 8s 25ms/step - loss: 0.5461 - accuracy: 0.7203 - val_loss: 0.5352 - val_accuracy: 0.7285\n",
      "Epoch 4/10\n",
      "313/313 [==============================] - 8s 25ms/step - loss: 0.5098 - accuracy: 0.7486 - val_loss: 0.5014 - val_accuracy: 0.7555\n",
      "Epoch 5/10\n",
      "313/313 [==============================] - 7s 22ms/step - loss: 0.4767 - accuracy: 0.7653 - val_loss: 0.4871 - val_accuracy: 0.7505\n",
      "Epoch 6/10\n",
      "313/313 [==============================] - 8s 25ms/step - loss: 0.4420 - accuracy: 0.7842 - val_loss: 0.4754 - val_accuracy: 0.7655\n",
      "Epoch 7/10\n",
      "313/313 [==============================] - 8s 25ms/step - loss: 0.3944 - accuracy: 0.8199 - val_loss: 0.5011 - val_accuracy: 0.7525\n",
      "Epoch 8/10\n",
      "313/313 [==============================] - 8s 25ms/step - loss: 0.3574 - accuracy: 0.8386 - val_loss: 0.5155 - val_accuracy: 0.7545\n",
      "Epoch 9/10\n",
      "313/313 [==============================] - 8s 26ms/step - loss: 0.3040 - accuracy: 0.8680 - val_loss: 0.5298 - val_accuracy: 0.7730\n",
      "Epoch 10/10\n",
      "313/313 [==============================] - 8s 25ms/step - loss: 0.2526 - accuracy: 0.8931 - val_loss: 0.5767 - val_accuracy: 0.7810\n"
     ]
    },
    {
     "data": {
      "image/png": "[encoded data removed]",
      "text/plain": [
       "<Figure size 432x288 with 1 Axes>"
      ]
     },
     "metadata": {
      "needs_background": "light"
     },
     "output_type": "display_data"
    },
    {
     "name": "stdout",
     "output_type": "stream",
     "text": [
      "63/63 [==============================] - 0s 7ms/step - loss: 0.5767 - accuracy: 0.7810\n"
     ]
    },
    {
     "data": {
      "text/plain": [
       "[0.5766593813896179, 0.781000018119812]"
      ]
     },
     "execution_count": 2,
     "metadata": {},
     "output_type": "execute_result"
    }
   ],
   "source": [
    "import tensorflow as tf\n",
    "from tensorflow import keras\n",
    "from tensorflow.keras import layers\n",
    "import numpy as np\n",
    "import matplotlib.pyplot as plt\n",
    "\n",
    "# Load the dataset\n",
    "(x_train, y_train), (x_test, y_test) = keras.datasets.cifar10.load_data()\n",
    "\n",
    "# Keep only cat and dog images and their labels\n",
    "train_mask = np.any(y_train == [3, 5], axis=1)\n",
    "test_mask = np.any(y_test == [3, 5], axis=1)\n",
    "x_train, y_train = x_train[train_mask], y_train[train_mask]\n",
    "x_test, y_test = x_test[test_mask], y_test[test_mask]\n",
    "\n",
    "# Preprocess the data\n",
    "x_train = x_train.astype(\"float32\") / 255.0\n",
    "x_test = x_test.astype(\"float32\") / 255.0\n",
    "y_train = keras.utils.to_categorical(y_train == 3, num_classes=2)\n",
    "y_test = keras.utils.to_categorical(y_test == 3, num_classes=2)\n",
    "\n",
    "# Define the model\n",
    "model = keras.Sequential(\n",
    "    [\n",
    "        layers.Conv2D(32, (3, 3), activation=\"relu\", input_shape=(32, 32, 3)),\n",
    "        layers.MaxPooling2D((2, 2)),\n",
    "        layers.Conv2D(64, (3, 3), activation=\"relu\"),\n",
    "        layers.MaxPooling2D((2, 2)),\n",
    "        layers.Conv2D(128, (3, 3), activation=\"relu\"),\n",
    "        layers.Flatten(),\n",
    "        layers.Dense(64, activation=\"relu\"),\n",
    "        layers.Dense(2, activation=\"softmax\"),\n",
    "    ]\n",
    ")\n",
    "\n",
    "# Compile the model\n",
    "model.compile(optimizer=\"adam\", loss=\"categorical_crossentropy\", metrics=[\"accuracy\"])\n",
    "\n",
    "# Train the model\n",
    "history = model.fit(x_train, y_train, epochs=10, validation_data=(x_test, y_test))\n",
    "\n",
    "# Plot the training history\n",
    "plt.plot(history.history[\"accuracy\"], label=\"accuracy\")\n",
    "plt.plot(history.history[\"val_accuracy\"], label=\"val_accuracy\")\n",
    "plt.xlabel(\"Epoch\")\n",
    "plt.ylabel(\"Accuracy\")\n",
    "plt.legend()\n",
    "plt.show()\n",
    "\n",
    "# Evaluate the model\n",
    "model.evaluate(x_test, y_test)\n"
   ]
  },
  {
   "cell_type": "code",
   "execution_count": null,
   "id": "23cc1d62",
   "metadata": {},
   "outputs": [],
   "source": []
  },
  {
   "cell_type": "code",
   "execution_count": 8,
   "id": "c86e449b",
   "metadata": {},
   "outputs": [
    {
     "name": "stdout",
     "output_type": "stream",
     "text": [
      "Epoch 1/3\n",
      "391/391 [==============================] - 391s 995ms/step - loss: 0.4594 - accuracy: 0.7772 - val_loss: 0.3523 - val_accuracy: 0.8544\n",
      "Epoch 2/3\n",
      "391/391 [==============================] - 399s 1s/step - loss: 0.2914 - accuracy: 0.8827 - val_loss: 0.3335 - val_accuracy: 0.8646\n",
      "Epoch 3/3\n",
      "391/391 [==============================] - 395s 1s/step - loss: 0.2463 - accuracy: 0.9054 - val_loss: 0.3106 - val_accuracy: 0.8735\n",
      "Accuracy: 87.35%\n"
     ]
    }
   ],
   "source": [
    "import numpy as np\n",
    "from keras.datasets import imdb\n",
    "from keras.models import Sequential\n",
    "from keras.layers import Dense, LSTM, Embedding\n",
    "# from keras.preprocessing import sequence\n",
    "from tensorflow.keras.preprocessing.sequence import pad_sequences\n",
    "\n",
    "# Set random seed for reproducibility\n",
    "np.random.seed(42)\n",
    "\n",
    "# Load the data\n",
    "(X_train, y_train), (X_test, y_test) = imdb.load_data(num_words=5000)\n",
    "\n",
    "# Pad sequences to a maximum review length in words\n",
    "max_review_length = 500\n",
    "X_train = pad_sequences(X_train, maxlen=max_review_length)\n",
    "X_test = pad_sequences(X_test, maxlen=max_review_length)\n",
    "\n",
    "# Define the model architecture\n",
    "embedding_vector_length = 32\n",
    "model = Sequential()\n",
    "model.add(Embedding(5000, embedding_vector_length, input_length=max_review_length))\n",
    "model.add(LSTM(100))\n",
    "model.add(Dense(1, activation='sigmoid'))\n",
    "\n",
    "# Compile the model\n",
    "model.compile(loss='binary_crossentropy', optimizer='adam', metrics=['accuracy'])\n",
    "\n",
    "# Train the model\n",
    "model.fit(X_train, y_train, validation_data=(X_test, y_test), epochs=3, batch_size=64)\n",
    "\n",
    "# Evaluate the model\n",
    "scores = model.evaluate(X_test, y_test, verbose=0)\n",
    "print(\"Accuracy: %.2f%%\" % (scores[1]*100))\n"
   ]
  },
  {
   "cell_type": "code",
   "execution_count": null,
   "id": "e9364b60",
   "metadata": {},
   "outputs": [],
   "source": []
  },
  {
   "cell_type": "code",
   "execution_count": 4,
   "id": "352b6bbd",
   "metadata": {},
   "outputs": [
    {
     "name": "stdout",
     "output_type": "stream",
     "text": [
      "Defaulting to user installation because normal site-packages is not writeable\n",
      "Requirement already satisfied: keras in c:\\users\\rajen\\appdata\\roaming\\python\\python39\\site-packages (2.11.0)\n"
     ]
    }
   ],
   "source": [
    "# !pip install keras --upgrade"
   ]
  },
  {
   "cell_type": "code",
   "execution_count": null,
   "id": "108a7a2a",
   "metadata": {},
   "outputs": [],
   "source": []
  }
 ],
 "metadata": {
  "kernelspec": {
   "display_name": "Python 3 (ipykernel)",
   "language": "python",
   "name": "python3"
  },
  "language_info": {
   "codemirror_mode": {
    "name": "ipython",
    "version": 3
   },
   "file_extension": ".py",
   "mimetype": "text/x-python",
   "name": "python",
   "nbconvert_exporter": "python",
   "pygments_lexer": "ipython3",
   "version": "3.9.12"
  }
 },
 "nbformat": 4,
 "nbformat_minor": 5
}
