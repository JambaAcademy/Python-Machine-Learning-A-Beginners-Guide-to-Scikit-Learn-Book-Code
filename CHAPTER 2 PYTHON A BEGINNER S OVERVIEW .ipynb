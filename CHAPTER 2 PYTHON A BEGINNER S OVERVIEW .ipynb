{
 "cells": [
  {
   "cell_type": "markdown",
   "id": "44032271",
   "metadata": {},
   "source": [
    "## 2.1 PYTHON BASICS \n",
    "### Comments in Python\n",
    "Comments in Python are used to add notes and explanations to your code, making it easier to understand and maintain. They are ignored by the interpreter and do not affect the execution of the program. In Python, comments start with a hash symbol (#) and continue until the end of the line. For example, the following line is a comment:\n"
   ]
  },
  {
   "cell_type": "code",
   "execution_count": 1,
   "id": "4918fff0",
   "metadata": {},
   "outputs": [],
   "source": [
    "# This is a comment"
   ]
  },
  {
   "cell_type": "markdown",
   "id": "60c57657",
   "metadata": {},
   "source": [
    "You can also place comments at the end of a line of code, after the statement:"
   ]
  },
  {
   "cell_type": "code",
   "execution_count": 2,
   "id": "9d7c0862",
   "metadata": {},
   "outputs": [],
   "source": [
    "x = 5  # This is a comment"
   ]
  },
  {
   "cell_type": "markdown",
   "id": "6e157d30",
   "metadata": {},
   "source": [
    "Additionally, Python supports multi-line comments, which are denoted by triple quotes (either single or double). For example, the following code demonstrates a multi-line comment:"
   ]
  },
  {
   "cell_type": "code",
   "execution_count": 5,
   "id": "b520ff5b",
   "metadata": {},
   "outputs": [
    {
     "data": {
      "text/plain": [
       "'\\nThis is a\\nmulti-line comment\\n'"
      ]
     },
     "execution_count": 5,
     "metadata": {},
     "output_type": "execute_result"
    }
   ],
   "source": [
    "\"\"\"\n",
    "This is a\n",
    "multi-line comment\n",
    "\"\"\"\n"
   ]
  },
  {
   "cell_type": "markdown",
   "id": "c7c99615",
   "metadata": {},
   "source": [
    "### Indentation in Python\n",
    "In Python, indentation is used to indicate code blocks. This means that the amount of whitespace at the beginning of a line is used to determine the level of nesting for a block of code. For example, in the following code, the statements in the if block are indented four spaces to the right of the if statement:\n"
   ]
  },
  {
   "cell_type": "code",
   "execution_count": 8,
   "id": "3861a4a8",
   "metadata": {},
   "outputs": [
    {
     "name": "stdout",
     "output_type": "stream",
     "text": [
      "x is positive\n"
     ]
    }
   ],
   "source": [
    "if x > 0:\n",
    "    print(\"x is positive\")\n",
    "    x = x+1\n"
   ]
  },
  {
   "cell_type": "markdown",
   "id": "dfce3065",
   "metadata": {},
   "source": [
    "This indentation is important because it helps to make the code more organized and readable. It is also used to indicate the scope of loops, functions, and classes. The amount of indentation is not fixed and can be any multiple of spaces or tabs, as long as it is consistent within the same block of code.\n",
    "It is also important to note that Python raises IndentationError when there is an inconsistent use of whitespaces. This means that if you use different amounts of whitespaces for different code blocks, you'll get an error. For example, if you use 4 spaces for one block and 2 spaces for another, you'll get an error.\n",
    "To avoid this, it is recommended to use spaces or tabs consistently throughout your code, and use an editor that automatically converts tabs to spaces. Most popular Python IDEs like PyCharm, VSCode, and Jupyter notebook have this feature enabled by default.\n"
   ]
  },
  {
   "cell_type": "markdown",
   "id": "964bdb55",
   "metadata": {},
   "source": [
    "### Variable in Python\n",
    "In Python, variables are used to store and manipulate data in a program. They are used to give a name to a value, so that the value can be referred to by its name rather than its value. Variables are declared by assigning a value to a variable name. For example, the following code declares a variable named \"x\" and assigns the value 5 to it:\n"
   ]
  },
  {
   "cell_type": "code",
   "execution_count": 9,
   "id": "97e442e7",
   "metadata": {},
   "outputs": [],
   "source": [
    "x = 5"
   ]
  },
  {
   "cell_type": "markdown",
   "id": "50c9c49a",
   "metadata": {},
   "source": [
    "Python is a dynamically-typed language, which means that the type of a variable is determined at runtime. This means that you don't have to specify the type of a variable when you declare it. For example, the following code assigns a string to a variable:"
   ]
  },
  {
   "cell_type": "code",
   "execution_count": 10,
   "id": "dfd36a7e",
   "metadata": {},
   "outputs": [],
   "source": [
    "name = \"John\""
   ]
  },
  {
   "cell_type": "markdown",
   "id": "3c129d18",
   "metadata": {},
   "source": [
    "It's also important to note that Python variable names must start with a letter or an underscore and can only contain letters, numbers, and underscores. Additionally, Python has a number of reserved words that cannot be used as variable names. These reserved words include keywords such as \"if\", \"else\", \"for\", \"in\", \"and\", \"or\", etc.\n",
    "Python also supports multiple assignment, which allows you to assign values to multiple variables in a single line. For example, the following code assigns values to three variables in a single line:\n"
   ]
  },
  {
   "cell_type": "code",
   "execution_count": 11,
   "id": "327f6fc6",
   "metadata": {},
   "outputs": [],
   "source": [
    "x, y, z = 1, 2, 3"
   ]
  },
  {
   "cell_type": "markdown",
   "id": "34b25976",
   "metadata": {},
   "source": [
    "Additionally, Python also supports variable swapping, where the values of two variables can be swapped in a single line of code, without the need of a temporary variable. For example, the following code swaps the values of x and y:"
   ]
  },
  {
   "cell_type": "code",
   "execution_count": 12,
   "id": "ec6849b9",
   "metadata": {},
   "outputs": [],
   "source": [
    "x, y = y, x"
   ]
  },
  {
   "cell_type": "markdown",
   "id": "4792e550",
   "metadata": {},
   "source": [
    "## 2.2 DATA TYPES IN PYTHON \n",
    "In Python, data types are used to define the type of a variable or a value. Different data types have different properties and behaviors, and they are used to store different types of data. The most commonly used data types in Python are:\n"
   ]
  },
  {
   "cell_type": "markdown",
   "id": "4e0f0eb2",
   "metadata": {},
   "source": [
    "1.\t**Numbers**: Python has various types of numerical data types, such as int (integer), float (floating point number), and complex. Integers are whole numbers, positive or negative, and they do not have decimal points. For example:"
   ]
  },
  {
   "cell_type": "code",
   "execution_count": 13,
   "id": "5d08c77f",
   "metadata": {},
   "outputs": [],
   "source": [
    "x = 5  # int\n",
    "y = -10  # int"
   ]
  },
  {
   "cell_type": "markdown",
   "id": "d3936db5",
   "metadata": {},
   "source": [
    "Floating point numbers are numbers that have decimal points and they are used for representing real numbers. For example:"
   ]
  },
  {
   "cell_type": "code",
   "execution_count": 14,
   "id": "fec0ca48",
   "metadata": {},
   "outputs": [],
   "source": [
    "y = 3.14  # float\n",
    "z = -0.5 # float"
   ]
  },
  {
   "cell_type": "markdown",
   "id": "a4658182",
   "metadata": {},
   "source": [
    "Complex numbers are numbers that consist of a real and an imaginary part. They are written in the form of a+bj, where a and b are real numbers and j is the imaginary unit. For example:"
   ]
  },
  {
   "cell_type": "code",
   "execution_count": 15,
   "id": "11bd0a99",
   "metadata": {},
   "outputs": [],
   "source": [
    "z = 3 + 4j  # complex"
   ]
  },
  {
   "cell_type": "markdown",
   "id": "5860af13",
   "metadata": {},
   "source": [
    "2.\t**Strings**: A string is a sequence of characters. They can be declared using single quotes ('') or double quotes (\"\"). Strings are used to represent text and they are immutable, meaning they cannot be modified after they are created. For example:"
   ]
  },
  {
   "cell_type": "code",
   "execution_count": 16,
   "id": "84691552",
   "metadata": {},
   "outputs": [],
   "source": [
    "name = \"John\"  # string"
   ]
  },
  {
   "cell_type": "markdown",
   "id": "5012dcb8",
   "metadata": {},
   "source": [
    "3.\t**Lists**: Lists are ordered sequences of items, which can be of any data type. They are enclosed in square brackets and the items are separated by commas. Lists are mutable, meaning they can be modified after they are created. For example:"
   ]
  },
  {
   "cell_type": "code",
   "execution_count": 18,
   "id": "4c3a3d24",
   "metadata": {},
   "outputs": [],
   "source": [
    "fruits = [\"apple\", \"banana\", \"orange\"]  # list"
   ]
  },
  {
   "cell_type": "markdown",
   "id": "cec1d650",
   "metadata": {},
   "source": [
    "4.\t**Tuples**: Tuples are similar to lists but they are immutable, meaning they cannot be modified after they are created. They are also enclosed in parentheses and the items are separated by commas. For example:"
   ]
  },
  {
   "cell_type": "code",
   "execution_count": 19,
   "id": "d934088e",
   "metadata": {},
   "outputs": [],
   "source": [
    "coordinates = (3, 4)  # tuple"
   ]
  },
  {
   "cell_type": "markdown",
   "id": "8e383c9e",
   "metadata": {},
   "source": [
    "5.\t**Dictionaries**: Dictionaries are used to store key-value pairs. They are enclosed in curly braces {} and the items are separated by commas. The keys must be unique and immutable. Dictionaries are also mutable, meaning they can be modified after they are created. For example:"
   ]
  },
  {
   "cell_type": "code",
   "execution_count": 20,
   "id": "d228e03e",
   "metadata": {},
   "outputs": [],
   "source": [
    "person = {\"name\": \"John\", \"age\": 30}  # dictionary"
   ]
  },
  {
   "cell_type": "markdown",
   "id": "1fd204ae",
   "metadata": {},
   "source": [
    "6.\t**Booleans**: Booleans represent true or false values. They can be either True or False. They are mostly used in conditional statements and loops. For example:"
   ]
  },
  {
   "cell_type": "code",
   "execution_count": 21,
   "id": "698f6242",
   "metadata": {},
   "outputs": [],
   "source": [
    "is_valid = True # Boolean"
   ]
  },
  {
   "cell_type": "markdown",
   "id": "567f2f07",
   "metadata": {},
   "source": [
    "It's important to note that in Python, the type of a variable or a value can be determined using the built-in function type(). For example:"
   ]
  },
  {
   "cell_type": "code",
   "execution_count": 22,
   "id": "b9f37363",
   "metadata": {},
   "outputs": [
    {
     "name": "stdout",
     "output_type": "stream",
     "text": [
      "<class 'int'>\n"
     ]
    }
   ],
   "source": [
    "x = 5\n",
    "print(type(x))  # <class 'int'>\n"
   ]
  },
  {
   "cell_type": "markdown",
   "id": "8da55e57",
   "metadata": {},
   "source": [
    "### 2.3 CONTROL FLOW IN PYTHON \n",
    "Control flow refers to the order in which statements in a program are executed. In Python, control flow is achieved through the use of statements such as if-else, for loops, and while loops. These statements allow you to control the flow of execution in your program and make decisions based on certain conditions.\n",
    "\n",
    "The **if-else statement** is used to make decisions in your code. It allows you to execute a block of code only if a certain condition is true. The syntax for an if-else statement is as follows:\n"
   ]
  },
  {
   "cell_type": "code",
   "execution_count": 24,
   "id": "efef2682",
   "metadata": {},
   "outputs": [
    {
     "name": "stdout",
     "output_type": "stream",
     "text": [
      "x is greater than 5\n"
     ]
    }
   ],
   "source": [
    "x = 7\n",
    "if x > 5:\n",
    "    print(\"x is greater than 5\")\n",
    "else:\n",
    "    print(\"x is not greater than 5\")\n"
   ]
  },
  {
   "cell_type": "markdown",
   "id": "bedc1248",
   "metadata": {},
   "source": [
    "Another type of control flow structure is the **for loop**. The for loop is used to iterate through a sequence of items, such as a list, tuple, or string. The syntax for a for loop is as follows:"
   ]
  },
  {
   "cell_type": "code",
   "execution_count": 25,
   "id": "125e25e9",
   "metadata": {},
   "outputs": [
    {
     "name": "stdout",
     "output_type": "stream",
     "text": [
      "1\n",
      "2\n",
      "3\n",
      "4\n",
      "5\n"
     ]
    }
   ],
   "source": [
    "numbers = [1, 2, 3, 4, 5]\n",
    "for number in numbers:\n",
    "    print(number)\n"
   ]
  },
  {
   "cell_type": "markdown",
   "id": "48d2bf25",
   "metadata": {},
   "source": [
    "The **while loop** is another type of control flow structure. It is used to execute a block of code repeatedly as long as a certain condition is true. The syntax for a while loop is as follows:"
   ]
  },
  {
   "cell_type": "code",
   "execution_count": 26,
   "id": "97025fdf",
   "metadata": {},
   "outputs": [
    {
     "name": "stdout",
     "output_type": "stream",
     "text": [
      "1\n",
      "2\n",
      "3\n",
      "4\n",
      "5\n"
     ]
    }
   ],
   "source": [
    "i = 1\n",
    "while i <= 5:\n",
    "    print(i)\n",
    "    i += 1\n"
   ]
  },
  {
   "cell_type": "markdown",
   "id": "30e4faeb",
   "metadata": {},
   "source": [
    "Python also provides the **break** and **continue** statements for more fine-grained control over the flow of execution within loops. The break statement allows you to exit a loop early, while the continue statement allows you to skip the current iteration and move on to the next one."
   ]
  },
  {
   "cell_type": "code",
   "execution_count": 27,
   "id": "e7a49f87",
   "metadata": {},
   "outputs": [
    {
     "name": "stdout",
     "output_type": "stream",
     "text": [
      "1\n",
      "2\n"
     ]
    }
   ],
   "source": [
    "numbers = [1, 2, 3, 4, 5]\n",
    "for number in numbers:\n",
    "    if number == 3:\n",
    "        break\n",
    "    print(number)\n"
   ]
  },
  {
   "cell_type": "markdown",
   "id": "d8a50b24",
   "metadata": {},
   "source": [
    "### 2.4 FUNCTIO IN PYTHON \n",
    "In Python, a function is a block of reusable code that performs a specific task. Functions are useful for organizing and structuring code, making it more readable and maintainable. They can also be reused across multiple parts of a program, reducing code duplication.\n",
    "\n",
    "Functions are defined using the def keyword, followed by the function name, and a set of parentheses that may contain parameters. For example, the following code defines a simple function called greet that takes a single parameter name:\n"
   ]
  },
  {
   "cell_type": "code",
   "execution_count": 28,
   "id": "14407623",
   "metadata": {},
   "outputs": [],
   "source": [
    "def greet(name):\n",
    "    print(\"Hello, \" + name)\n"
   ]
  },
  {
   "cell_type": "markdown",
   "id": "20686d11",
   "metadata": {},
   "source": [
    "Once a function is defined, it can be called or invoked by using its name followed by parentheses. For example:"
   ]
  },
  {
   "cell_type": "code",
   "execution_count": 29,
   "id": "7625d192",
   "metadata": {},
   "outputs": [
    {
     "name": "stdout",
     "output_type": "stream",
     "text": [
      "Hello, John\n"
     ]
    }
   ],
   "source": [
    "greet(\"John\")"
   ]
  },
  {
   "cell_type": "markdown",
   "id": "e2b62011",
   "metadata": {},
   "source": [
    "Functions can also return a value using the return statement. For example, the following function takes two parameters a and b, and returns their sum:"
   ]
  },
  {
   "cell_type": "code",
   "execution_count": 30,
   "id": "3cc7ef19",
   "metadata": {},
   "outputs": [
    {
     "name": "stdout",
     "output_type": "stream",
     "text": [
      "7\n"
     ]
    }
   ],
   "source": [
    "def add(a, b):\n",
    "    return a + b\n",
    "\n",
    "result = add(3, 4)\n",
    "print(result)\n"
   ]
  },
  {
   "cell_type": "markdown",
   "id": "004f291d",
   "metadata": {},
   "source": [
    "It's also important to note that in Python, functions can have default values for their parameters. This means that if a value is not passed for a parameter when calling the function, the default value will be used instead. For example:"
   ]
  },
  {
   "cell_type": "code",
   "execution_count": 31,
   "id": "1b5eb82f",
   "metadata": {},
   "outputs": [
    {
     "name": "stdout",
     "output_type": "stream",
     "text": [
      "Hello, John\n"
     ]
    }
   ],
   "source": [
    "def greet(name, message = \"Hello\"):\n",
    "    print(message + \", \" + name)\n",
    "\n",
    "greet(\"John\")\n"
   ]
  },
  {
   "cell_type": "markdown",
   "id": "a0459501",
   "metadata": {},
   "source": [
    "### 2.5 ANONYMOUS (LAMBDA) FUNCTION \n",
    "In Python, an anonymous function, also known as a lambda function, is a function without a name. They are defined using the lambda keyword, followed by a set of parameters, a colon, and a single expression. The expression is evaluated and returned when the function is called.\n",
    "\n",
    "For example, the following code defines a lambda function that takes two parameters a and b, and returns their product:\n"
   ]
  },
  {
   "cell_type": "code",
   "execution_count": 33,
   "id": "89edec2b",
   "metadata": {},
   "outputs": [
    {
     "name": "stdout",
     "output_type": "stream",
     "text": [
      "12\n"
     ]
    }
   ],
   "source": [
    "multiply = lambda a, b: a * b\n",
    "result = multiply(3, 4)\n",
    "print(result)\n"
   ]
  },
  {
   "cell_type": "markdown",
   "id": "1d3b9797",
   "metadata": {},
   "source": [
    "Lambda functions are useful when a small, simple function is needed, such as a callback function for a button click or a sorting key for a list. They can also be used as arguments in other functions, such as the filter() and map() functions.\n",
    "For example, the following code uses the filter() function to filter a list of numbers, keeping only the even numbers:\n"
   ]
  },
  {
   "cell_type": "code",
   "execution_count": 34,
   "id": "98c85357",
   "metadata": {},
   "outputs": [
    {
     "name": "stdout",
     "output_type": "stream",
     "text": [
      "[2, 4, 6, 8, 10]\n"
     ]
    }
   ],
   "source": [
    "numbers = [1, 2, 3, 4, 5, 6, 7, 8, 9, 10]\n",
    "even_numbers = filter(lambda x: x % 2 == 0, numbers)\n",
    "print(list(even_numbers))\n"
   ]
  },
  {
   "cell_type": "markdown",
   "id": "da055ef3",
   "metadata": {},
   "source": [
    "### 2.6 FUNCTION FOR LIST \n",
    "Python provides a variety of built-in functions that can be used to manipulate lists. These functions make it easy to perform common operations on lists, such as sorting, filtering, and mapping.\n",
    "\n",
    "The len() function is used to determine the length of a list, which is the number of elements it contains. For example:\n"
   ]
  },
  {
   "cell_type": "code",
   "execution_count": 36,
   "id": "216e99f1",
   "metadata": {},
   "outputs": [
    {
     "name": "stdout",
     "output_type": "stream",
     "text": [
      "3\n"
     ]
    }
   ],
   "source": [
    "fruits = ['apple', 'banana', 'orange']\n",
    "print(len(fruits))\n"
   ]
  },
  {
   "cell_type": "markdown",
   "id": "75e7de1b",
   "metadata": {},
   "source": [
    "The sort() function is used to sort the elements of a list in ascending order. It modifies the original list and does not return a new one. For example:"
   ]
  },
  {
   "cell_type": "code",
   "execution_count": 37,
   "id": "c3970b7d",
   "metadata": {},
   "outputs": [
    {
     "name": "stdout",
     "output_type": "stream",
     "text": [
      "[1, 2, 3, 4, 5]\n"
     ]
    }
   ],
   "source": [
    "numbers = [3, 1, 4, 2, 5]\n",
    "numbers.sort()\n",
    "print(numbers)"
   ]
  },
  {
   "cell_type": "markdown",
   "id": "4f213f65",
   "metadata": {},
   "source": [
    "The sorted() function is similar to the sort() function but it returns a new list rather than modifying the original one."
   ]
  },
  {
   "cell_type": "code",
   "execution_count": 38,
   "id": "8465bf3c",
   "metadata": {},
   "outputs": [
    {
     "name": "stdout",
     "output_type": "stream",
     "text": [
      "[1, 2, 3, 4, 5]\n"
     ]
    }
   ],
   "source": [
    "numbers = [3, 1, 4, 2, 5]\n",
    "sorted_numbers = sorted(numbers)\n",
    "print(sorted_numbers)"
   ]
  },
  {
   "cell_type": "markdown",
   "id": "044c3bf1",
   "metadata": {},
   "source": [
    "The filter() function is used to filter the elements of a list based on a certain condition. It returns an iterator, which can be converted to a list. For example:"
   ]
  },
  {
   "cell_type": "code",
   "execution_count": 39,
   "id": "ae4ad487",
   "metadata": {},
   "outputs": [
    {
     "name": "stdout",
     "output_type": "stream",
     "text": [
      "[2, 4]\n"
     ]
    }
   ],
   "source": [
    "numbers = [1, 2, 3, 4, 5]\n",
    "even_numbers = filter(lambda x: x % 2 == 0, numbers)\n",
    "print(list(even_numbers))"
   ]
  },
  {
   "cell_type": "markdown",
   "id": "1059cffa",
   "metadata": {},
   "source": [
    "The map() function is used to apply a certain operation to each element of a list. It returns an iterator, which can be converted to a list. For example:"
   ]
  },
  {
   "cell_type": "code",
   "execution_count": 40,
   "id": "7add4efe",
   "metadata": {},
   "outputs": [
    {
     "name": "stdout",
     "output_type": "stream",
     "text": [
      "[1, 4, 9, 16, 25]\n"
     ]
    }
   ],
   "source": [
    "numbers = [1, 2, 3, 4, 5]\n",
    "squared_numbers = map(lambda x: x ** 2, numbers)\n",
    "print(list(squared_numbers))"
   ]
  },
  {
   "cell_type": "markdown",
   "id": "0815df60",
   "metadata": {},
   "source": [
    "The reduce() function is used to reduce a list of elements to a single value by applying a certain operation. It is a part of the functools module. For example:"
   ]
  },
  {
   "cell_type": "code",
   "execution_count": 41,
   "id": "cf0c8628",
   "metadata": {},
   "outputs": [
    {
     "name": "stdout",
     "output_type": "stream",
     "text": [
      "120\n"
     ]
    }
   ],
   "source": [
    "from functools import reduce\n",
    "numbers = [1, 2, 3, 4, 5]\n",
    "product = reduce(lambda x, y: x * y, numbers)\n",
    "print(product)"
   ]
  },
  {
   "cell_type": "markdown",
   "id": "7e7f2bab",
   "metadata": {},
   "source": [
    "### 2.7 FUNCTION FOR DICTIONARY \n",
    "Python provides a variety of built-in functions that can be used to manipulate dictionaries. These functions make it easy to perform common operations on dictionaries, such as iterating through keys and values, adding and updating key-value pairs, and checking for the existence of a key or value.\n",
    "\n",
    "The len() function is used to determine the number of key-value pairs in a dictionary. For example:\n"
   ]
  },
  {
   "cell_type": "code",
   "execution_count": 42,
   "id": "96d253bc",
   "metadata": {},
   "outputs": [
    {
     "name": "stdout",
     "output_type": "stream",
     "text": [
      "2\n"
     ]
    }
   ],
   "source": [
    "person = {\"name\": \"John\", \"age\": 30}\n",
    "print(len(person))"
   ]
  },
  {
   "cell_type": "markdown",
   "id": "31f30c34",
   "metadata": {},
   "source": [
    "The keys() function is used to return a view of all the keys in a dictionary. For example:"
   ]
  },
  {
   "cell_type": "code",
   "execution_count": 43,
   "id": "dcb3e1c8",
   "metadata": {},
   "outputs": [
    {
     "name": "stdout",
     "output_type": "stream",
     "text": [
      "dict_keys(['name', 'age'])\n"
     ]
    }
   ],
   "source": [
    "person = {\"name\": \"John\", \"age\": 30}\n",
    "print(person.keys())"
   ]
  },
  {
   "cell_type": "markdown",
   "id": "705171b5",
   "metadata": {},
   "source": [
    "The values() function is used to return a view of all the values in a dictionary. For example:"
   ]
  },
  {
   "cell_type": "code",
   "execution_count": 44,
   "id": "01096c89",
   "metadata": {},
   "outputs": [
    {
     "name": "stdout",
     "output_type": "stream",
     "text": [
      "dict_values(['John', 30])\n"
     ]
    }
   ],
   "source": [
    "person = {\"name\": \"John\", \"age\": 30}\n",
    "print(person.values())"
   ]
  },
  {
   "cell_type": "markdown",
   "id": "d7e29f89",
   "metadata": {},
   "source": [
    "The items() function is used to return a view of all the key-value pairs in a dictionary as a list of tuple. For example:"
   ]
  },
  {
   "cell_type": "code",
   "execution_count": 45,
   "id": "3ac53193",
   "metadata": {},
   "outputs": [
    {
     "name": "stdout",
     "output_type": "stream",
     "text": [
      "dict_items([('name', 'John'), ('age', 30)])\n"
     ]
    }
   ],
   "source": [
    "person = {\"name\": \"John\", \"age\": 30}\n",
    "print(person.items())"
   ]
  },
  {
   "cell_type": "markdown",
   "id": "ffe465dc",
   "metadata": {},
   "source": [
    "The get() function is used to retrieve the value of a key in a dictionary. If the key is not found, it returns None or a default value that can be specified as an argument. For example:"
   ]
  },
  {
   "cell_type": "code",
   "execution_count": 46,
   "id": "d7a45cb7",
   "metadata": {},
   "outputs": [
    {
     "name": "stdout",
     "output_type": "stream",
     "text": [
      "John\n",
      "Unknown\n"
     ]
    }
   ],
   "source": [
    "person = {\"name\": \"John\", \"age\": 30}\n",
    "print(person.get(\"name\")) # Output: John\n",
    "print(person.get(\"address\", \"Unknown\")) # Output: Unknown"
   ]
  },
  {
   "cell_type": "markdown",
   "id": "3dd37545",
   "metadata": {},
   "source": [
    "The update() function is used to update the key-value pairs of a dictionary. It can take another dictionary or key-value pairs as argument. For example:"
   ]
  },
  {
   "cell_type": "code",
   "execution_count": 47,
   "id": "1e9a1e07",
   "metadata": {},
   "outputs": [
    {
     "name": "stdout",
     "output_type": "stream",
     "text": [
      "{'name': 'Jane', 'age': 30, 'gender': 'female'}\n"
     ]
    }
   ],
   "source": [
    "person = {\"name\": \"John\", \"age\": 30}\n",
    "person.update({\"name\": \"Jane\", \"gender\": \"female\"})\n",
    "print(person) # Output: {'name': 'Jane', 'age': 30, 'gender': 'female'}"
   ]
  },
  {
   "cell_type": "markdown",
   "id": "bbcf5724",
   "metadata": {},
   "source": [
    "The pop() function is used to remove a key-value pair from a dictionary. It takes the key as an argument and returns the value of the key that was removed. If the key is not found, it raises a KeyError or return a default value that can be specified as an argument. For example:"
   ]
  },
  {
   "cell_type": "code",
   "execution_count": 48,
   "id": "98940584",
   "metadata": {},
   "outputs": [
    {
     "name": "stdout",
     "output_type": "stream",
     "text": [
      "John\n",
      "{'age': 30}\n"
     ]
    }
   ],
   "source": [
    "person = {\"name\": \"John\", \"age\": 30}\n",
    "print(person.pop(\"name\")) # Output: John\n",
    "print(person) # Output: {'age': 30}"
   ]
  },
  {
   "cell_type": "markdown",
   "id": "6b4d96e7",
   "metadata": {},
   "source": [
    "The in keyword is used to check if a key or a value exists in a dictionary. For example:"
   ]
  },
  {
   "cell_type": "code",
   "execution_count": 50,
   "id": "96d1e07b",
   "metadata": {},
   "outputs": [
    {
     "name": "stdout",
     "output_type": "stream",
     "text": [
      "True\n",
      "False\n"
     ]
    }
   ],
   "source": [
    "person = {\"name\": \"John\", \"age\": 30}\n",
    "print(\"name\" in person) # Output: True\n",
    "print(\"address\" in person) # Output: False"
   ]
  },
  {
   "cell_type": "markdown",
   "id": "3ac0c713",
   "metadata": {},
   "source": [
    "### 2.8 STRING MANIPULATION FUNCTION \n",
    "Python provides a variety of built-in functions and methods for manipulating strings. These functions and methods make it easy to perform common operations on strings, such as concatenation, slicing, formatting, and searching.\n",
    "The len() function is used to determine the length of a string, which is the number of characters it contains. For example:\n"
   ]
  },
  {
   "cell_type": "code",
   "execution_count": 51,
   "id": "00cd2094",
   "metadata": {},
   "outputs": [
    {
     "name": "stdout",
     "output_type": "stream",
     "text": [
      "4\n"
     ]
    }
   ],
   "source": [
    "name = \"John\"\n",
    "print(len(name))"
   ]
  },
  {
   "cell_type": "markdown",
   "id": "b117e2de",
   "metadata": {},
   "source": [
    "The + operator is used to concatenate two or more strings together. For example:"
   ]
  },
  {
   "cell_type": "code",
   "execution_count": 52,
   "id": "64c01469",
   "metadata": {},
   "outputs": [
    {
     "name": "stdout",
     "output_type": "stream",
     "text": [
      "John Doe\n"
     ]
    }
   ],
   "source": [
    "first_name = \"John\"\n",
    "last_name = \"Doe\"\n",
    "full_name = first_name + \" \" + last_name\n",
    "print(full_name)"
   ]
  },
  {
   "cell_type": "markdown",
   "id": "7c2cc45b",
   "metadata": {},
   "source": [
    "The * operator is used to repeat a string a certain number of times. For example:"
   ]
  },
  {
   "cell_type": "code",
   "execution_count": 53,
   "id": "31bb0648",
   "metadata": {},
   "outputs": [
    {
     "name": "stdout",
     "output_type": "stream",
     "text": [
      "JohnJohnJohn\n"
     ]
    }
   ],
   "source": [
    "name = \"John\"\n",
    "print(name * 3)"
   ]
  },
  {
   "cell_type": "markdown",
   "id": "9d003b0b",
   "metadata": {},
   "source": [
    "The **[:]** notation is used to slice a string. It allows you to extract a substring from a string by specifying the start and end index. For example:"
   ]
  },
  {
   "cell_type": "code",
   "execution_count": 54,
   "id": "3159a77d",
   "metadata": {},
   "outputs": [
    {
     "name": "stdout",
     "output_type": "stream",
     "text": [
      "John\n"
     ]
    }
   ],
   "source": [
    "print(name[0:4])"
   ]
  },
  {
   "cell_type": "markdown",
   "id": "6b0eca2a",
   "metadata": {},
   "source": [
    "The **in** keyword is used to check if a substring exists in a string. For example:"
   ]
  },
  {
   "cell_type": "code",
   "execution_count": 55,
   "id": "c46b204f",
   "metadata": {},
   "outputs": [
    {
     "name": "stdout",
     "output_type": "stream",
     "text": [
      "True\n",
      "False\n"
     ]
    }
   ],
   "source": [
    "name = \"John Doe\"\n",
    "print(\"John\" in name) # Output: True\n",
    "print(\"Jane\" in name) # Output: False"
   ]
  },
  {
   "cell_type": "markdown",
   "id": "b496fc6a",
   "metadata": {},
   "source": [
    "The **replace()** method is used to replace a substring with another substring in a string. For example:"
   ]
  },
  {
   "cell_type": "code",
   "execution_count": 56,
   "id": "6d1dfc8a",
   "metadata": {},
   "outputs": [
    {
     "name": "stdout",
     "output_type": "stream",
     "text": [
      "Jane Doe\n"
     ]
    }
   ],
   "source": [
    "name = \"John Doe\"\n",
    "new_name = name.replace(\"John\", \"Jane\")\n",
    "print(new_name)"
   ]
  },
  {
   "cell_type": "markdown",
   "id": "c7be3d1d",
   "metadata": {},
   "source": [
    "The **split()** method is used to split a string into a list of substrings using a specified delimiter. For example:"
   ]
  },
  {
   "cell_type": "code",
   "execution_count": 57,
   "id": "22680192",
   "metadata": {},
   "outputs": [
    {
     "name": "stdout",
     "output_type": "stream",
     "text": [
      "['John', 'Doe', '30']\n"
     ]
    }
   ],
   "source": [
    "name = \"John,Doe,30\"\n",
    "name_list = name.split(\",\")\n",
    "print(name_list)"
   ]
  },
  {
   "cell_type": "markdown",
   "id": "7e3e31a9",
   "metadata": {},
   "source": [
    "The **format()** method is used to format strings by replacing placeholders with values. Placeholders are represented by curly braces {}. For example:"
   ]
  },
  {
   "cell_type": "code",
   "execution_count": 58,
   "id": "c1885d42",
   "metadata": {},
   "outputs": [
    {
     "name": "stdout",
     "output_type": "stream",
     "text": [
      "My name is John and I am 30 years old.\n"
     ]
    }
   ],
   "source": [
    "name = \"John\"\n",
    "age = 30\n",
    "print(\"My name is {} and I am {} years old.\".format(name, age))"
   ]
  },
  {
   "cell_type": "markdown",
   "id": "331e1e34",
   "metadata": {},
   "source": [
    "The **join()** method is used to join a list of strings into a single string using a specified delimiter. For example:"
   ]
  },
  {
   "cell_type": "code",
   "execution_count": 59,
   "id": "16ed4fdc",
   "metadata": {},
   "outputs": [
    {
     "name": "stdout",
     "output_type": "stream",
     "text": [
      "John,Doe,Jane\n"
     ]
    }
   ],
   "source": [
    "names = [\"John\", \"Doe\", \"Jane\"]\n",
    "string_of_names = \",\".join(names)\n",
    "print(string_of_names)"
   ]
  },
  {
   "cell_type": "markdown",
   "id": "0c8508ad",
   "metadata": {},
   "source": [
    "### 2.9 EXCEPTION HANDLING \n",
    "Exception handling is a mechanism in Python that allows you to handle errors and exceptional situations in your code. It allows you to write code that can continue to execute even when an error occurs. This is important because it allows your program to continue running and avoid crashing, which can lead to a better user experience.\n",
    "\n",
    "The try and except keywords are used to handle exceptions in Python. The try block contains the code that may raise an exception. The except block contains the code that will be executed if an exception is raised. For example:\n"
   ]
  },
  {
   "cell_type": "code",
   "execution_count": 60,
   "id": "7d1e4968",
   "metadata": {},
   "outputs": [
    {
     "name": "stdout",
     "output_type": "stream",
     "text": [
      "Division by zero is not allowed.\n"
     ]
    }
   ],
   "source": [
    "try:\n",
    "   num1 = 7\n",
    "   num2 = 0\n",
    "   print(num1 / num2)\n",
    "except ZeroDivisionError:\n",
    "   print(\"Division by zero is not allowed.\")"
   ]
  },
  {
   "cell_type": "markdown",
   "id": "f557857c",
   "metadata": {},
   "source": [
    "You can use multiple except blocks to handle different types of exceptions. For example:"
   ]
  },
  {
   "cell_type": "code",
   "execution_count": 61,
   "id": "7e8033a1",
   "metadata": {},
   "outputs": [
    {
     "name": "stdout",
     "output_type": "stream",
     "text": [
      "ValueError: could not convert string to int.\n"
     ]
    }
   ],
   "source": [
    "try:\n",
    "   variable = \"hello\"\n",
    "   print(int(variable))\n",
    "except ValueError:\n",
    "   print(\"ValueError: could not convert string to int.\")\n",
    "except TypeError:\n",
    "   print(\"TypeError: int() argument must be a string, a bytes-like object or a number, not 'list'\")"
   ]
  },
  {
   "cell_type": "markdown",
   "id": "5427e35b",
   "metadata": {},
   "source": [
    "You can also use the finally block to include code that will be executed regardless of whether an exception was raised or not. For example:"
   ]
  },
  {
   "cell_type": "code",
   "execution_count": 62,
   "id": "ad25e023",
   "metadata": {},
   "outputs": [
    {
     "name": "stdout",
     "output_type": "stream",
     "text": [
      "Division by zero is not allowed.\n",
      "This code will be executed no matter what.\n"
     ]
    }
   ],
   "source": [
    "try:\n",
    "   num1 = 7\n",
    "   num2 = 0\n",
    "   print(num1 / num2)\n",
    "except ZeroDivisionError:\n",
    "   print(\"Division by zero is not allowed.\")\n",
    "finally:\n",
    "   print(\"This code will be executed no matter what.\")"
   ]
  },
  {
   "cell_type": "markdown",
   "id": "4b52b8a9",
   "metadata": {},
   "source": [
    "### 2.10 FILE HANDLING IN PYTHON \n",
    "File handling in Python allows you to read from and write to files on your computer's file system. Python provides a variety of built-in functions and methods for working with files, including opening, reading, writing, and closing files.\n",
    "\n",
    "The open() function is used to open a file. It takes the file name and the mode in which the file should be opened as arguments. The mode can be 'r' for reading, 'w' for writing, and 'a' for appending. For example:\n"
   ]
  },
  {
   "cell_type": "markdown",
   "id": "8374564d",
   "metadata": {},
   "source": [
    "**Note:** To run below command, file named 'example.txt' should exist in the same location as this notebook in your local computer or you need to provide absolute path of the fil. "
   ]
  },
  {
   "cell_type": "code",
   "execution_count": 68,
   "id": "e3157a45",
   "metadata": {},
   "outputs": [
    {
     "ename": "FileNotFoundError",
     "evalue": "[Errno 2] No such file or directory: 'example.txt'",
     "output_type": "error",
     "traceback": [
      "\u001b[1;31m---------------------------------------------------------------------------\u001b[0m",
      "\u001b[1;31mFileNotFoundError\u001b[0m                         Traceback (most recent call last)",
      "Input \u001b[1;32mIn [68]\u001b[0m, in \u001b[0;36m<cell line: 1>\u001b[1;34m()\u001b[0m\n\u001b[1;32m----> 1\u001b[0m file \u001b[38;5;241m=\u001b[39m \u001b[38;5;28;43mopen\u001b[39;49m\u001b[43m(\u001b[49m\u001b[38;5;124;43m'\u001b[39;49m\u001b[38;5;124;43mexample.txt\u001b[39;49m\u001b[38;5;124;43m'\u001b[39;49m\u001b[43m,\u001b[49m\u001b[43m \u001b[49m\u001b[38;5;124;43m'\u001b[39;49m\u001b[38;5;124;43mr\u001b[39;49m\u001b[38;5;124;43m'\u001b[39;49m\u001b[43m)\u001b[49m\n",
      "\u001b[1;31mFileNotFoundError\u001b[0m: [Errno 2] No such file or directory: 'example.txt'"
     ]
    }
   ],
   "source": [
    "file = open('example.txt', 'r')"
   ]
  },
  {
   "cell_type": "markdown",
   "id": "5ddd3db6",
   "metadata": {},
   "source": [
    "The **read()** method is used to read the contents of a file. For example:"
   ]
  },
  {
   "cell_type": "code",
   "execution_count": 69,
   "id": "ad43a8c3",
   "metadata": {},
   "outputs": [
    {
     "ename": "FileNotFoundError",
     "evalue": "[Errno 2] No such file or directory: 'example.txt'",
     "output_type": "error",
     "traceback": [
      "\u001b[1;31m---------------------------------------------------------------------------\u001b[0m",
      "\u001b[1;31mFileNotFoundError\u001b[0m                         Traceback (most recent call last)",
      "Input \u001b[1;32mIn [69]\u001b[0m, in \u001b[0;36m<cell line: 1>\u001b[1;34m()\u001b[0m\n\u001b[1;32m----> 1\u001b[0m file \u001b[38;5;241m=\u001b[39m \u001b[38;5;28;43mopen\u001b[39;49m\u001b[43m(\u001b[49m\u001b[38;5;124;43m'\u001b[39;49m\u001b[38;5;124;43mexample.txt\u001b[39;49m\u001b[38;5;124;43m'\u001b[39;49m\u001b[43m,\u001b[49m\u001b[43m \u001b[49m\u001b[38;5;124;43m'\u001b[39;49m\u001b[38;5;124;43mr\u001b[39;49m\u001b[38;5;124;43m'\u001b[39;49m\u001b[43m)\u001b[49m\n\u001b[0;32m      2\u001b[0m contents \u001b[38;5;241m=\u001b[39m file\u001b[38;5;241m.\u001b[39mread()\n\u001b[0;32m      3\u001b[0m \u001b[38;5;28mprint\u001b[39m(contents)\n",
      "\u001b[1;31mFileNotFoundError\u001b[0m: [Errno 2] No such file or directory: 'example.txt'"
     ]
    }
   ],
   "source": [
    "file = open('example.txt', 'r')\n",
    "contents = file.read()\n",
    "print(contents)\n",
    "file.close()"
   ]
  },
  {
   "cell_type": "markdown",
   "id": "dd697c76",
   "metadata": {},
   "source": [
    "This reads the contents of the file 'example.txt' and stores it in the variable 'contents' and prints it. it's important to close the file after reading it by calling **file.close()**\n",
    "\n",
    "The **write()** method is used to write to a file. It takes a string as an argument. For example:\n"
   ]
  },
  {
   "cell_type": "code",
   "execution_count": 70,
   "id": "582fe562",
   "metadata": {},
   "outputs": [],
   "source": [
    "file = open('example.txt', 'w')\n",
    "file.write(\"Hello World!\")\n",
    "file.close()"
   ]
  },
  {
   "cell_type": "markdown",
   "id": "8183fa41",
   "metadata": {},
   "source": [
    "The **append()** method is used to add new data to the end of a file without overwriting the existing contents. It works similar to the write method. For example:"
   ]
  },
  {
   "cell_type": "code",
   "execution_count": 71,
   "id": "12b9df45",
   "metadata": {},
   "outputs": [],
   "source": [
    "file = open('example.txt', 'a')\n",
    "file.write(\"\\nThis is an added text\")\n",
    "file.close()"
   ]
  },
  {
   "cell_type": "markdown",
   "id": "b37eb5b7",
   "metadata": {},
   "source": [
    "The **with** statement is used to open a file and automatically close it when you are done with it. This is considered as a best practice to avoid file not closed errors. For example:"
   ]
  },
  {
   "cell_type": "code",
   "execution_count": 72,
   "id": "20138136",
   "metadata": {},
   "outputs": [
    {
     "name": "stdout",
     "output_type": "stream",
     "text": [
      "Hello World!\n",
      "This is an added text\n"
     ]
    }
   ],
   "source": [
    "with open('example.txt', 'r') as file:\n",
    "    contents = file.read()\n",
    "    print(contents)"
   ]
  },
  {
   "cell_type": "markdown",
   "id": "d6601363",
   "metadata": {},
   "source": [
    "The **readline()** method is used to read a single line from a file. For example:"
   ]
  },
  {
   "cell_type": "code",
   "execution_count": 74,
   "id": "ab95b68e",
   "metadata": {},
   "outputs": [
    {
     "name": "stdout",
     "output_type": "stream",
     "text": [
      "Hello World!\n",
      "\n"
     ]
    }
   ],
   "source": [
    "with open('example.txt', 'r') as file:\n",
    "    line = file.readline()\n",
    "    print(line)"
   ]
  },
  {
   "cell_type": "markdown",
   "id": "1743475f",
   "metadata": {},
   "source": [
    "### 2.11 MODLUES IN PYTHON \n",
    "Modules in Python are pre-written code libraries that you can use to add extra functionality to your Python programs. They are a way to organize and reuse code, and they can help you write more efficient and organized code. Python has a wide variety of built-in modules, and you can also install third-party modules using package managers such as pip.\n",
    "\n",
    "The import statement is used to import a module in Python. For example:\n"
   ]
  },
  {
   "cell_type": "code",
   "execution_count": 75,
   "id": "9b2338a5",
   "metadata": {},
   "outputs": [],
   "source": [
    "import math"
   ]
  },
  {
   "cell_type": "markdown",
   "id": "52bd1862",
   "metadata": {},
   "source": [
    "This imports the math module, which provides mathematical functions such as sqrt(), sin(), and cos().\n",
    "\n",
    "You can also use the from keyword to import specific functions or variables from a module. For example:"
   ]
  },
  {
   "cell_type": "code",
   "execution_count": 76,
   "id": "b10924a5",
   "metadata": {},
   "outputs": [],
   "source": [
    "from math import sqrt"
   ]
  },
  {
   "cell_type": "markdown",
   "id": "caaa14c9",
   "metadata": {},
   "source": [
    "You can also use the as keyword to give a module or function a different name when you import it. For example:"
   ]
  },
  {
   "cell_type": "code",
   "execution_count": 77,
   "id": "88904512",
   "metadata": {},
   "outputs": [],
   "source": [
    "import math as m"
   ]
  },
  {
   "cell_type": "markdown",
   "id": "6bfcd843",
   "metadata": {},
   "source": [
    "You can also use the * wildcard character to import all functions and variables from a module. For example:"
   ]
  },
  {
   "cell_type": "code",
   "execution_count": 78,
   "id": "a7227b5d",
   "metadata": {},
   "outputs": [],
   "source": [
    "from math import *"
   ]
  },
  {
   "cell_type": "markdown",
   "id": "558ec375",
   "metadata": {},
   "source": [
    "Python also provides a way to find out the list of functions or variable inside a module using dir() function. For example"
   ]
  },
  {
   "cell_type": "code",
   "execution_count": 79,
   "id": "9fecd904",
   "metadata": {},
   "outputs": [
    {
     "name": "stdout",
     "output_type": "stream",
     "text": [
      "['__doc__', '__loader__', '__name__', '__package__', '__spec__', 'acos', 'acosh', 'asin', 'asinh', 'atan', 'atan2', 'atanh', 'ceil', 'comb', 'copysign', 'cos', 'cosh', 'degrees', 'dist', 'e', 'erf', 'erfc', 'exp', 'expm1', 'fabs', 'factorial', 'floor', 'fmod', 'frexp', 'fsum', 'gamma', 'gcd', 'hypot', 'inf', 'isclose', 'isfinite', 'isinf', 'isnan', 'isqrt', 'lcm', 'ldexp', 'lgamma', 'log', 'log10', 'log1p', 'log2', 'modf', 'nan', 'nextafter', 'perm', 'pi', 'pow', 'prod', 'radians', 'remainder', 'sin', 'sinh', 'sqrt', 'tan', 'tanh', 'tau', 'trunc', 'ulp']\n"
     ]
    }
   ],
   "source": [
    "import math\n",
    "print(dir(math))"
   ]
  },
  {
   "cell_type": "code",
   "execution_count": null,
   "id": "3d717bcf",
   "metadata": {},
   "outputs": [],
   "source": []
  }
 ],
 "metadata": {
  "kernelspec": {
   "display_name": "Python 3 (ipykernel)",
   "language": "python",
   "name": "python3"
  },
  "language_info": {
   "codemirror_mode": {
    "name": "ipython",
    "version": 3
   },
   "file_extension": ".py",
   "mimetype": "text/x-python",
   "name": "python",
   "nbconvert_exporter": "python",
   "pygments_lexer": "ipython3",
   "version": "3.9.12"
  }
 },
 "nbformat": 4,
 "nbformat_minor": 5
}
