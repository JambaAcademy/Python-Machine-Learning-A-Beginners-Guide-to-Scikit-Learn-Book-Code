{
 "cells": [
  {
   "cell_type": "markdown",
   "id": "c9da83f5",
   "metadata": {},
   "source": [
    "### 4.1 LINEAR REGRESSION \n",
    "\n",
    "Linear regression is a supervised learning algorithm used for modeling the linear relationship between a dependent variable and one or more independent variables. The goal of linear regression is to find the best-fitting straight line through the data points. Linear regression can be used for both simple and multiple regression analysis.\n",
    "\n",
    "Simple Linear Regression\n",
    "\n",
    "In simple linear regression, there is only one independent variable and the line of best fit is represented by the equation:\n",
    "\n",
    "    y = mx + b\n"
   ]
  },
  {
   "cell_type": "code",
   "execution_count": 1,
   "id": "1a4dd337",
   "metadata": {},
   "outputs": [
    {
     "name": "stdout",
     "output_type": "stream",
     "text": [
      "Simple Linear Regression Coefficients:  [2.40489665]\n",
      "Simple Linear Regression Intercept:  2.858723976458525\n",
      "Multiple Linear Regression Coefficients:  [3.14478121 5.05243671]\n",
      "Multiple Linear Regression Intercept:  -0.11118684247464561\n"
     ]
    }
   ],
   "source": [
    "import numpy as np\n",
    "from sklearn.linear_model import LinearRegression\n",
    "\n",
    "# set seed for reproducibility\n",
    "np.random.seed(123)\n",
    "\n",
    "# generate random dataset with 2 features and 1 target variable\n",
    "X = np.random.rand(1000, 2)\n",
    "y = 3*X[:,0] + 5*X[:,1] + np.random.randn(1000)*0.2\n",
    "\n",
    "# split data into training and testing sets\n",
    "X_train, X_test, y_train, y_test = train_test_split(X, y, test_size=0.2, random_state=0)\n",
    "\n",
    "\n",
    "# fit simple linear regression model\n",
    "model_slr = LinearRegression()\n",
    "model_slr.fit(X[:,0].reshape(-1, 1), y)\n",
    "\n",
    "# predict using simple linear regression model\n",
    "y_pred_slr = model_slr.predict(X[:,0].reshape(-1, 1))\n",
    "\n",
    "# print coefficients and intercept for simple linear regression model\n",
    "print(\"Simple Linear Regression Coefficients: \", model_slr.coef_)\n",
    "print(\"Simple Linear Regression Intercept: \", model_slr.intercept_)\n",
    "\n",
    "# fit multiple linear regression model\n",
    "model_mlr = LinearRegression()\n",
    "model_mlr.fit(X, y)\n",
    "\n",
    "# predict using multiple linear regression model\n",
    "y_pred_mlr = model_mlr.predict(X)\n",
    "\n",
    "# print coefficients and intercept for multiple linear regression model\n",
    "print(\"Multiple Linear Regression Coefficients: \", model_mlr.coef_)\n",
    "print(\"Multiple Linear Regression Intercept: \", model_mlr.intercept_)\n",
    "\n",
    "# check the accuracy of the model\n",
    "score = model_slr.score(X_test, y_test)\n",
    "print(\"Accuracy:\", score)\n"
   ]
  },
  {
   "cell_type": "code",
   "execution_count": 2,
   "id": "354cfbc0",
   "metadata": {},
   "outputs": [
    {
     "name": "stdout",
     "output_type": "stream",
     "text": [
      "Coefficients: [2.00633802 3.0088422 ]\n",
      "Intercept: -0.19265156903176717\n",
      "Mean squared error: 0.85\n",
      "R2 score: 0.95\n"
     ]
    }
   ],
   "source": [
    "# Import required libraries\n",
    "import numpy as np\n",
    "from sklearn.linear_model import LinearRegression\n",
    "from sklearn.model_selection import train_test_split\n",
    "\n",
    "# Generate random dataset\n",
    "np.random.seed(123)\n",
    "num_samples = 100\n",
    "x1 = np.random.normal(10, 2, num_samples) # Independent variable 1 (age)\n",
    "x2 = np.random.normal(5, 1, num_samples) # Independent variable 2 (income)\n",
    "y = 2*x1 + 3*x2 + np.random.normal(0, 1, num_samples) # Dependent variable (savings)\n",
    "\n",
    "# Reshape independent variables\n",
    "X = np.column_stack((x1, x2))\n",
    "\n",
    "# Split dataset into train and test sets\n",
    "X_train, X_test, y_train, y_test = train_test_split(X, y, test_size=0.2, random_state=123)\n",
    "\n",
    "# Create a Linear Regression model\n",
    "model = LinearRegression()\n",
    "\n",
    "# Fit the model on training data\n",
    "model.fit(X_train, y_train)\n",
    "\n",
    "# Predict the savings using the test set\n",
    "y_pred = model.predict(X_test)\n",
    "\n",
    "# Print model coefficients and intercept\n",
    "print('Coefficients:', model.coef_)\n",
    "print('Intercept:', model.intercept_)\n",
    "\n",
    "# Print model performance metrics\n",
    "from sklearn.metrics import mean_squared_error, r2_score\n",
    "print('Mean squared error: %.2f' % mean_squared_error(y_test, y_pred))\n",
    "print('R2 score: %.2f' % r2_score(y_test, y_pred))\n"
   ]
  },
  {
   "cell_type": "markdown",
   "id": "45df8b40",
   "metadata": {},
   "source": [
    "#### What is R2 Score?\n",
    "\n",
    "R2 Score, also known as the coefficient of determination, is a statistical measure that represents the proportion of variance in the dependent variable that can be explained by the independent variable(s).\n",
    "\n",
    "R2 score is a value between 0 and 1, where a value of 1 indicates that the model perfectly fits the data, while a value of 0 indicates that the model does not explain any of the variability in the data.\n",
    "\n",
    "Here's an example of calculating the R2 score using Python:\n"
   ]
  },
  {
   "cell_type": "code",
   "execution_count": 3,
   "id": "f3bd5eec",
   "metadata": {},
   "outputs": [
    {
     "name": "stdout",
     "output_type": "stream",
     "text": [
      "R2 score: 0.9795918367346939\n"
     ]
    }
   ],
   "source": [
    "from sklearn.linear_model import LinearRegression\n",
    "from sklearn.metrics import r2_score\n",
    "import numpy as np\n",
    "\n",
    "# Generate some random data\n",
    "x = np.array([1, 2, 3, 4, 5, 6])\n",
    "y = np.array([2, 4, 5, 6, 7, 8])\n",
    "\n",
    "# Fit a linear regression model\n",
    "model = LinearRegression().fit(x.reshape(-1,1), y)\n",
    "\n",
    "# Predict the y values using the model\n",
    "y_pred = model.predict(x.reshape(-1,1))\n",
    "\n",
    "# Calculate the R2 score\n",
    "r2 = r2_score(y, y_pred)\n",
    "\n",
    "print(f\"R2 score: {r2}\")\n"
   ]
  },
  {
   "cell_type": "markdown",
   "id": "8177df19",
   "metadata": {},
   "source": [
    "### 4.2 LOGISTIC REGRESSION \n",
    "\n",
    "Logistic regression is a type of supervised machine learning algorithm used for classification tasks. It is used to predict the probability of an outcome belonging to a particular class. The goal of logistic regression is to find the best fitting model to describe the relationship between the independent variables and the dependent variable, which is binary in nature (0/1, true/false, yes/no).\n",
    "\n",
    "The logistic regression model is an extension of the linear regression model, with the main difference being that the outcome variable is dichotomous, and the linear equation is transformed using the logistic function, also known as the sigmoid function. The logistic function produces an S-shaped curve, which allows the model to predict the probability of the outcome belonging to one class or the other. "
   ]
  },
  {
   "cell_type": "code",
   "execution_count": 5,
   "id": "443c8ce6",
   "metadata": {},
   "outputs": [
    {
     "name": "stdout",
     "output_type": "stream",
     "text": [
      "Accuracy: 0.65\n"
     ]
    }
   ],
   "source": [
    "import numpy as np\n",
    "from sklearn.linear_model import LogisticRegression\n",
    "from sklearn.model_selection import train_test_split\n",
    "\n",
    "# Generate random dataset\n",
    "np.random.seed(123)\n",
    "age = np.random.normal(40, 10, 100)\n",
    "income = np.random.normal(50000, 10000, 100)\n",
    "education = np.random.choice([0, 1], size=100)\n",
    "\n",
    "# Define dependent and independent variables\n",
    "X = np.column_stack((age, income, education))\n",
    "y = np.random.choice([0, 1], size=100)\n",
    "\n",
    "# Split data into training and testing sets\n",
    "X_train, X_test, y_train, y_test = train_test_split(X, y, test_size=0.2, random_state=123)\n",
    "\n",
    "# Create logistic regression model\n",
    "model = LogisticRegression()\n",
    "\n",
    "# Train the model using the training data\n",
    "model.fit(X_train, y_train)\n",
    "\n",
    "# Make predictions on the test data\n",
    "y_pred = model.predict(X_test)\n",
    "\n",
    "# Print the accuracy of the model\n",
    "print(\"Accuracy:\", model.score(X_test, y_test))\n"
   ]
  },
  {
   "cell_type": "code",
   "execution_count": 24,
   "id": "9ab19b8f",
   "metadata": {},
   "outputs": [
    {
     "name": "stdout",
     "output_type": "stream",
     "text": [
      "Accuracy: 0.65\n"
     ]
    }
   ],
   "source": [
    "import numpy as np\n",
    "from sklearn.linear_model import LogisticRegression\n",
    "from sklearn.model_selection import train_test_split\n",
    "\n",
    "# Generate random dataset\n",
    "np.random.seed(123)\n",
    "age = np.random.normal(40, 10, 100)\n",
    "income = np.random.normal(50000, 10000, 100)\n",
    "education = np.random.choice([0, 1], size=100)\n",
    "\n",
    "# Define dependent and independent variables\n",
    "X = np.column_stack((age, income, education))\n",
    "y = np.random.choice([0, 1], size=100)\n",
    "\n",
    "# Split data into training and testing sets\n",
    "X_train, X_test, y_train, y_test = train_test_split(X, y, test_size=0.2, random_state=123)\n",
    "\n",
    "# Create logistic regression model\n",
    "model = LogisticRegression()\n",
    "\n",
    "# Train the model using the training data\n",
    "model.fit(X_train, y_train)\n",
    "\n",
    "# Make predictions on the test data\n",
    "y_pred = model.predict(X_test)\n",
    "\n",
    "# Print the accuracy of the model\n",
    "print(\"Accuracy:\", model.score(X_test, y_test))\n"
   ]
  },
  {
   "cell_type": "markdown",
   "id": "0df02922",
   "metadata": {},
   "source": [
    "### 4.3 DECISION TREES \n",
    "\n",
    "Decision trees are a popular and widely used supervised learning algorithm for both classification and regression problems. The algorithm creates a tree-like model of decisions and their possible consequences, with the goal of correctly classifying or predicting the outcome of new instances.\n",
    "\n",
    "At the top of the tree is a root node that represents the entire dataset. The root node is then split into two or more child nodes, each representing a subset of the data that has certain characteristics. This process continues recursively until the leaf nodes are reached, which represent the final decision or prediction.\n"
   ]
  },
  {
   "cell_type": "code",
   "execution_count": 14,
   "id": "9d73224f",
   "metadata": {},
   "outputs": [
    {
     "name": "stdout",
     "output_type": "stream",
     "text": [
      "Accuracy: 1.0\n"
     ]
    }
   ],
   "source": [
    "# Import necessary libraries\n",
    "import numpy as np\n",
    "import pandas as pd\n",
    "from sklearn.tree import DecisionTreeClassifier, plot_tree\n",
    "from sklearn.model_selection import train_test_split\n",
    "import matplotlib.pyplot as plt\n",
    "\n",
    "# Set random seed for reproducibility\n",
    "np.random.seed(123)\n",
    "\n",
    "# Generate random dataset with 4 independent variables and 1 dependent variable\n",
    "height = np.random.normal(175, 10, 1000)\n",
    "weight = np.random.normal(70, 5, 1000)\n",
    "age = np.random.normal(35, 5, 1000)\n",
    "gender = np.random.choice([0, 1], 1000, p=[0.4, 0.6])\n",
    "health_condition = np.where((height - weight + age + gender * 10 + np.random.normal(0, 10, 1000)) > 350, 1, 0)\n",
    "\n",
    "# Create a pandas dataframe with the generated data\n",
    "data = pd.DataFrame({\n",
    "    'Height': height,\n",
    "    'Weight': weight,\n",
    "    'Age': age,\n",
    "    'Gender': gender,\n",
    "    'Health Condition': health_condition\n",
    "})\n",
    "\n",
    "# Split the dataset into training and testing sets\n",
    "X_train, X_test, y_train, y_test = train_test_split(data[['Height', 'Weight', 'Age', 'Gender']], data['Health Condition'], test_size=0.2)\n",
    "\n",
    "# Create a decision tree classifier\n",
    "tree = DecisionTreeClassifier(max_depth=3)\n",
    "\n",
    "# Fit the model on the training data\n",
    "tree.fit(X_train, y_train)\n",
    "\n",
    "# Make predictions on the testing data\n",
    "y_pred = tree.predict(X_test)\n",
    "\n",
    "# Print the accuracy score\n",
    "print(\"Accuracy:\", np.mean(y_pred == y_test))\n",
    "\n",
    "# # Visualize the decision tree\n",
    "# fig, ax = plt.subplots(figsize=(12, 8))\n",
    "# plot_tree(tree, filled=True, feature_names=['Height', 'Weight', 'Age', 'Gender'], class_names=['bed', 'good'], ax=ax)\n",
    "# plt.show()\n"
   ]
  },
  {
   "cell_type": "code",
   "execution_count": 11,
   "id": "887e4a07",
   "metadata": {},
   "outputs": [
    {
     "name": "stdout",
     "output_type": "stream",
     "text": [
      "Accuracy: 0.4\n"
     ]
    },
    {
     "data": {
      "image/png": "[encoded data removed]",
      "text/plain": [
       "<Figure size 864x576 with 1 Axes>"
      ]
     },
     "metadata": {
      "needs_background": "light"
     },
     "output_type": "display_data"
    }
   ],
   "source": [
    "import numpy as np\n",
    "from sklearn.tree import DecisionTreeClassifier, plot_tree\n",
    "import matplotlib.pyplot as plt\n",
    "\n",
    "# Generate a random dataset with 4 independent variables and 1 dependent variable\n",
    "np.random.seed(42)\n",
    "age = np.random.randint(18, 65, size=100)\n",
    "income = np.random.randint(20000, 150000, size=100)\n",
    "education = np.random.randint(0, 4, size=100)\n",
    "occupation = np.random.randint(0, 5, size=100)\n",
    "loan_approved = np.random.randint(0, 2, size=100)\n",
    "\n",
    "# Combine the independent variables into a feature matrix X\n",
    "X = np.column_stack((age, income, education, occupation))\n",
    "\n",
    "# Assign the dependent variable to y\n",
    "y = loan_approved\n",
    "\n",
    "# Split the dataset into training and testing sets\n",
    "from sklearn.model_selection import train_test_split\n",
    "X_train, X_test, y_train, y_test = train_test_split(X, y, test_size=0.2, random_state=42)\n",
    "\n",
    "# Fit the decision tree classifier to the training set\n",
    "clf = DecisionTreeClassifier(max_depth=3, random_state=42)\n",
    "clf.fit(X_train, y_train)\n",
    "\n",
    "# Make predictions on the testing data\n",
    "y_pred = clf.predict(X_test)\n",
    "\n",
    "# Print the accuracy score\n",
    "print(\"Accuracy:\", np.mean(y_pred == y_test))\n",
    "\n",
    "# Visualize the decision tree\n",
    "fig, ax = plt.subplots(figsize=(12, 8))\n",
    "plot_tree(clf, filled=True, feature_names=['age', 'income', 'education', 'occupation'], class_names=['rejected', 'approved'], ax=ax)\n",
    "plt.show()\n"
   ]
  },
  {
   "cell_type": "code",
   "execution_count": null,
   "id": "471eb56a",
   "metadata": {},
   "outputs": [],
   "source": []
  },
  {
   "cell_type": "code",
   "execution_count": 15,
   "id": "15d864ab",
   "metadata": {},
   "outputs": [
    {
     "name": "stdout",
     "output_type": "stream",
     "text": [
      "[[106   6]\n",
      " [  5  83]]\n"
     ]
    },
    {
     "data": {
      "image/png": "[encoded data removed]",
      "text/plain": [
       "<Figure size 432x288 with 1 Axes>"
      ]
     },
     "metadata": {
      "needs_background": "light"
     },
     "output_type": "display_data"
    }
   ],
   "source": [
    "# Import necessary libraries\n",
    "from sklearn.datasets import make_classification\n",
    "from sklearn.model_selection import train_test_split\n",
    "from sklearn.ensemble import RandomForestClassifier\n",
    "import matplotlib.pyplot as plt\n",
    "from sklearn.metrics import confusion_matrix\n",
    "\n",
    "# Generate a random dataset\n",
    "X, y = make_classification(n_samples=1000, n_features=10, n_informative=5, n_redundant=2, random_state=42)\n",
    "\n",
    "# Split the dataset into training and testing sets\n",
    "X_train, X_test, y_train, y_test = train_test_split(X, y, test_size=0.2, random_state=42)\n",
    "\n",
    "# Create the Random Forest model with 100 trees\n",
    "rf = RandomForestClassifier(n_estimators=100, random_state=42)\n",
    "\n",
    "# Fit the model to the training data\n",
    "rf.fit(X_train, y_train)\n",
    "\n",
    "# Predict the target variable for the testing data\n",
    "y_pred = rf.predict(X_test)\n",
    "\n",
    "# Print the confusion matrix\n",
    "cm = confusion_matrix(y_test, y_pred)\n",
    "print(cm)\n",
    "\n",
    "# Plot the confusion matrix\n",
    "plt.imshow(cm, cmap='binary')\n",
    "plt.xlabel('Predicted')\n",
    "plt.ylabel('True')\n",
    "plt.show()\n"
   ]
  },
  {
   "cell_type": "code",
   "execution_count": 17,
   "id": "7e6d37a8",
   "metadata": {},
   "outputs": [
    {
     "name": "stdout",
     "output_type": "stream",
     "text": [
      "Accuracy: 0.46\n",
      "[[36 64]\n",
      " [44 56]]\n"
     ]
    },
    {
     "data": {
      "image/png": "[encoded data removed]",
      "text/plain": [
       "<Figure size 432x288 with 2 Axes>"
      ]
     },
     "metadata": {
      "needs_background": "light"
     },
     "output_type": "display_data"
    }
   ],
   "source": [
    "import numpy as np\n",
    "import pandas as pd\n",
    "from sklearn.ensemble import RandomForestClassifier\n",
    "from sklearn.metrics import accuracy_score, confusion_matrix\n",
    "from sklearn.model_selection import train_test_split\n",
    "import matplotlib.pyplot as plt\n",
    "\n",
    "# Set seed for reproducibility\n",
    "np.random.seed(42)\n",
    "\n",
    "# Generate random dataset\n",
    "height = np.random.normal(loc=170, scale=5, size=1000)\n",
    "weight = np.random.normal(loc=70, scale=10, size=1000)\n",
    "age = np.random.normal(loc=30, scale=5, size=1000)\n",
    "gender = np.random.randint(low=0, high=2, size=1000)\n",
    "\n",
    "# Create a DataFrame to hold the dataset\n",
    "df = pd.DataFrame({\n",
    "    'height': height,\n",
    "    'weight': weight,\n",
    "    'age': age,\n",
    "    'gender': gender\n",
    "})\n",
    "\n",
    "# Define the dependent and independent variables\n",
    "X = df[['height', 'weight', 'age']]\n",
    "y = df['gender']\n",
    "\n",
    "# Split the dataset into training and testing sets\n",
    "X_train, X_test, y_train, y_test = train_test_split(X, y, test_size=0.2)\n",
    "\n",
    "# Instantiate a Random Forest classifier with 100 trees\n",
    "rfc = RandomForestClassifier(n_estimators=100)\n",
    "\n",
    "# Fit the model to the training data\n",
    "rfc.fit(X_train, y_train)\n",
    "\n",
    "# Use the model to make predictions on the testing data\n",
    "y_pred = rfc.predict(X_test)\n",
    "\n",
    "# Evaluate the model's accuracy\n",
    "accuracy = accuracy_score(y_test, y_pred)\n",
    "print(\"Accuracy:\", accuracy)\n",
    "\n",
    "# Create a confusion matrix to visualize the performance of the model\n",
    "cm = confusion_matrix(y_test, y_pred)\n",
    "\n",
    "# Print the confusion matrix\n",
    "print(cm)\n",
    "plt.imshow(cm, cmap=plt.cm.Blues)\n",
    "plt.colorbar()\n",
    "plt.xticks([0, 1])\n",
    "plt.yticks([0, 1])\n",
    "plt.xlabel('Predicted label')\n",
    "plt.ylabel('True label')\n",
    "plt.title('Confusion matrix')\n",
    "plt.show()\n"
   ]
  },
  {
   "cell_type": "markdown",
   "id": "253af816",
   "metadata": {},
   "source": [
    "### 4.5 CONFUSION MATRIX \n",
    "\n",
    "In the field of machine learning, a confusion matrix is a table that is often used to describe the performance of a classification model on a set of data for which the true values are known. It is a useful tool for evaluating the performance of a model and helps in identifying the areas where the model may be making errors. In this section, we will discuss the concept of confusion matrix in detail, along with an example in Python using the scikit-learn library.\n",
    "\n",
    "#### What is a Confusion Matrix?\n",
    "\n",
    "A confusion matrix is a table that is used to evaluate the performance of a classification model by comparing the predicted values with the true values. It is a matrix with four different values: true positives (TP), false positives (FP), true negatives (TN), and false negatives (FN). These values are derived from the predicted and true values of the data set. "
   ]
  },
  {
   "cell_type": "code",
   "execution_count": 19,
   "id": "04307915",
   "metadata": {},
   "outputs": [
    {
     "name": "stdout",
     "output_type": "stream",
     "text": [
      "[[39 16]\n",
      " [31 14]]\n"
     ]
    },
    {
     "data": {
      "image/png": "[encoded data removed]",
      "text/plain": [
       "<Figure size 432x288 with 2 Axes>"
      ]
     },
     "metadata": {
      "needs_background": "light"
     },
     "output_type": "display_data"
    }
   ],
   "source": [
    "import numpy as np\n",
    "\n",
    "np.random.seed(42)\n",
    "\n",
    "# Generate random data for age, blood pressure, and cholesterol level\n",
    "age = np.random.randint(20, 80, size=500)\n",
    "bp = np.random.randint(80, 200, size=500)\n",
    "cholesterol = np.random.randint(100, 300, size=500)\n",
    "\n",
    "# Generate random labels for whether or not a patient has the disease\n",
    "labels = np.random.randint(0, 2, size=500)\n",
    "\n",
    "from sklearn.model_selection import train_test_split\n",
    "\n",
    "# Split the data into training and testing sets\n",
    "X_train, X_test, y_train, y_test = train_test_split(\n",
    "    np.column_stack([age, bp, cholesterol]), labels, test_size=0.2, random_state=42\n",
    ")\n",
    "\n",
    "from sklearn.linear_model import LogisticRegression\n",
    "\n",
    "# Train a logistic regression classifier\n",
    "clf = LogisticRegression(random_state=42).fit(X_train, y_train)\n",
    "\n",
    "from sklearn.metrics import confusion_matrix\n",
    "\n",
    "# Make predictions on the test data\n",
    "y_pred = clf.predict(X_test)\n",
    "\n",
    "# Generate a confusion matrix\n",
    "cm = confusion_matrix(y_test, y_pred)\n",
    "print(cm)\n",
    "\n",
    "import matplotlib.pyplot as plt\n",
    "import seaborn as sns\n",
    "\n",
    "# Plot the confusion matrix\n",
    "sns.heatmap(cm, annot=True, fmt=\"d\", cmap=\"Blues\")\n",
    "plt.title(\"Confusion Matrix\")\n",
    "plt.xlabel(\"Predicted Label\")\n",
    "plt.ylabel(\"True Label\")\n",
    "plt.show()\n"
   ]
  },
  {
   "cell_type": "markdown",
   "id": "03e11389",
   "metadata": {},
   "source": [
    "### 4.6 SUPPORT VECTOR MACHINES \n",
    "\n",
    "Support Vector Machines (SVMs) are a type of supervised learning model that can be used for classification and regression tasks. The basic idea behind SVMs is to find the best boundary (or hyperplane) that separates the data into different classes. The best boundary is the one that maximizes the margin, which is the distance between the boundary and the closest data points from each class.\n",
    "\n",
    "SVMs are particularly useful when the data is not linearly separable, which means that a straight line cannot be used to separate the classes. In such cases, SVMs can map the data into a higher dimensional space, where it becomes linearly separable. This process is called kernel trick and it allows SVMs to handle non-linear problems.\n",
    "\n",
    "The main advantage of SVMs is that they can handle high-dimensional data and they are less prone to overfitting compared to other models such as decision trees. However, SVMs can be sensitive to the choice of kernel function and the regularization parameter, which can affect the performance of the model.\n"
   ]
  },
  {
   "cell_type": "code",
   "execution_count": 25,
   "id": "860c6207",
   "metadata": {},
   "outputs": [
    {
     "data": {
      "image/png": "[encoded data removed]",
      "text/plain": [
       "<Figure size 432x288 with 1 Axes>"
      ]
     },
     "metadata": {
      "needs_background": "light"
     },
     "output_type": "display_data"
    }
   ],
   "source": [
    "import numpy as np\n",
    "import matplotlib.pyplot as plt\n",
    "from sklearn import svm\n",
    "from sklearn.datasets import make_blobs\n",
    "from sklearn.model_selection import train_test_split\n",
    "\n",
    "# Generate random dataset\n",
    "X, y = make_blobs(n_samples=1000, centers=2, random_state=42)\n",
    "\n",
    "# Split dataset into train and test sets\n",
    "X_train, X_test, y_train, y_test = train_test_split(X, y, test_size=0.2, random_state=42)\n",
    "\n",
    "# Define SVM model\n",
    "model = svm.SVC(kernel='linear', C=1.0)\n",
    "\n",
    "# Fit SVM model on training data\n",
    "model.fit(X_train, y_train)\n",
    "\n",
    "# Predict on test data\n",
    "y_pred = model.predict(X_test)\n",
    "\n",
    "# Plot data points and decision boundary\n",
    "plt.scatter(X[:, 0], X[:, 1], c=y, cmap='coolwarm')\n",
    "plt.xlim(-10, 10)\n",
    "plt.ylim(-10, 10)\n",
    "\n",
    "# Create a meshgrid to plot the decision boundary\n",
    "xx, yy = np.meshgrid(np.arange(-10, 10, 0.1), np.arange(-10, 10, 0.1))\n",
    "Z = model.predict(np.c_[xx.ravel(), yy.ravel()])\n",
    "Z = Z.reshape(xx.shape)\n",
    "\n",
    "# Plot decision boundary\n",
    "plt.contourf(xx, yy, Z, alpha=0.4, cmap='coolwarm')\n",
    "plt.show()\n"
   ]
  },
  {
   "cell_type": "code",
   "execution_count": null,
   "id": "b5bb08a7",
   "metadata": {},
   "outputs": [],
   "source": []
  },
  {
   "cell_type": "code",
   "execution_count": null,
   "id": "4b92806f",
   "metadata": {},
   "outputs": [],
   "source": []
  }
 ],
 "metadata": {
  "kernelspec": {
   "display_name": "Python 3 (ipykernel)",
   "language": "python",
   "name": "python3"
  },
  "language_info": {
   "codemirror_mode": {
    "name": "ipython",
    "version": 3
   },
   "file_extension": ".py",
   "mimetype": "text/x-python",
   "name": "python",
   "nbconvert_exporter": "python",
   "pygments_lexer": "ipython3",
   "version": "3.9.12"
  }
 },
 "nbformat": 4,
 "nbformat_minor": 5
}
